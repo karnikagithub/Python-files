{
 "cells": [
  {
   "cell_type": "code",
   "execution_count": 21,
   "metadata": {},
   "outputs": [],
   "source": [
    "#jabber = open(r'C:\\Users\\Srinath\\Downloads\\sample.txt','r') ## r is for raw data which opens a drive  & 'r' is to read.\n",
    "jabber = open('C:\\\\Users\\Srinath\\Downloads\\sample.txt','r')  ## or \\\\ from drive name C:\\\\\n",
    "jabber.close()\n",
    "# \"\"\"to read the specific words in the file\"\"\"\n",
    "#for line in jabber:\n",
    " #   if 'jabberwock' in line.lower(): ## to check for a particular word, lower(bcoz it'll read file in lowercase irrespective.)\n",
    "  #      print(line, end = '') ## end = ''  will print lines line after line closely.\n",
    "    \n",
    "#jabber.close() always use close() when you work with files."
   ]
  },
  {
   "cell_type": "code",
   "execution_count": 22,
   "metadata": {},
   "outputs": [
    {
     "name": "stdout",
     "output_type": "stream",
     "text": [
      "\"Beware the Jabberwock, my son!\n",
      "The Jabberwock, with eyes of flame,\n",
      "\"And hast thou slain the Jabberwock?\n"
     ]
    }
   ],
   "source": [
    "\"\"\" Using 'with' stmt to open a file. and it'll tidy up everything automatically once the obj is no longer needed.\n",
    "By that we need not to use close(): \"\"\"\n",
    "\n",
    "with open('C:\\\\Users\\Srinath\\Downloads\\sample.txt','r') as jabber:\n",
    "    for line in jabber:\n",
    "        if 'JAB' in line.upper():\n",
    "            print(line, end ='')"
   ]
  },
  {
   "cell_type": "code",
   "execution_count": 18,
   "metadata": {
    "collapsed": true
   },
   "outputs": [
    {
     "name": "stdout",
     "output_type": "stream",
     "text": [
      "'Twas brillig, and the slithy toves\n",
      "Did gyre and gimble in the wabe;\n",
      "All mimsy were the borogoves,\n",
      "And the mome raths outgrabe.\n",
      "\n",
      "\"Beware the Jabberwock, my son!\n",
      "The jaws that bite, the claws that catch!\n",
      "Beware the Jubjub bird, and shun\n",
      "The frumious Bandersnatch!\"\n",
      "\n",
      "He took his vorpal sword in hand:\n",
      "Long time the manxome foe he sought,\n",
      "So rested he by the Tumtum tree,\n",
      "And stood a while in thought.\n",
      "\n",
      "And, as in uffish thought he stood,\n",
      "The Jabberwock, with eyes of flame,\n",
      "Came whiffling through the tulgey wood,\n",
      "And burbled as it came!\n",
      "\n",
      "One two! One two! And through and through\n",
      "The vorpal blade went snicker-snack!\n",
      "He left it dead, and with its head\n",
      "He went galumphing back.\n",
      "\n",
      "\"And hast thou slain the Jabberwock?\n",
      "Come to my arms, my beamish boy!\"\n",
      "\"Oh frabjous day! Callooh! Callay!\"\n",
      "He chortled in his joy.\n",
      "\n",
      "'Twas brillig, and the slithy toves\n",
      "Did gyre and gimble in the wabe:\n",
      "All mimsy were the borogoves,\n",
      "And the mome raths outgrabe.\n",
      "\n"
     ]
    }
   ],
   "source": [
    "with open('C:\\\\Users\\Srinath\\Downloads\\sample.txt','r') as jabber:\n",
    "    line = jabber.readline()\n",
    "    while line:\n",
    "        print(line, end='')\n",
    "        line = jabber.readline() ## if we doesn't mention this code the while loop will run forever."
   ]
  },
  {
   "cell_type": "code",
   "execution_count": 19,
   "metadata": {
    "collapsed": true
   },
   "outputs": [
    {
     "name": "stdout",
     "output_type": "stream",
     "text": [
      "[\"'Twas brillig, and the slithy toves\\n\", 'Did gyre and gimble in the wabe;\\n', 'All mimsy were the borogoves,\\n', 'And the mome raths outgrabe.\\n', '\\n', '\"Beware the Jabberwock, my son!\\n', 'The jaws that bite, the claws that catch!\\n', 'Beware the Jubjub bird, and shun\\n', 'The frumious Bandersnatch!\"\\n', '\\n', 'He took his vorpal sword in hand:\\n', 'Long time the manxome foe he sought,\\n', 'So rested he by the Tumtum tree,\\n', 'And stood a while in thought.\\n', '\\n', 'And, as in uffish thought he stood,\\n', 'The Jabberwock, with eyes of flame,\\n', 'Came whiffling through the tulgey wood,\\n', 'And burbled as it came!\\n', '\\n', 'One two! One two! And through and through\\n', 'The vorpal blade went snicker-snack!\\n', 'He left it dead, and with its head\\n', 'He went galumphing back.\\n', '\\n', '\"And hast thou slain the Jabberwock?\\n', 'Come to my arms, my beamish boy!\"\\n', '\"Oh frabjous day! Callooh! Callay!\"\\n', 'He chortled in his joy.\\n', '\\n', \"'Twas brillig, and the slithy toves\\n\", 'Did gyre and gimble in the wabe:\\n', 'All mimsy were the borogoves,\\n', 'And the mome raths outgrabe.\\n', '\\n']\n",
      "'Twas brillig, and the slithy toves\n",
      "Did gyre and gimble in the wabe;\n",
      "All mimsy were the borogoves,\n",
      "And the mome raths outgrabe.\n",
      "\n",
      "\"Beware the Jabberwock, my son!\n",
      "The jaws that bite, the claws that catch!\n",
      "Beware the Jubjub bird, and shun\n",
      "The frumious Bandersnatch!\"\n",
      "\n",
      "He took his vorpal sword in hand:\n",
      "Long time the manxome foe he sought,\n",
      "So rested he by the Tumtum tree,\n",
      "And stood a while in thought.\n",
      "\n",
      "And, as in uffish thought he stood,\n",
      "The Jabberwock, with eyes of flame,\n",
      "Came whiffling through the tulgey wood,\n",
      "And burbled as it came!\n",
      "\n",
      "One two! One two! And through and through\n",
      "The vorpal blade went snicker-snack!\n",
      "He left it dead, and with its head\n",
      "He went galumphing back.\n",
      "\n",
      "\"And hast thou slain the Jabberwock?\n",
      "Come to my arms, my beamish boy!\"\n",
      "\"Oh frabjous day! Callooh! Callay!\"\n",
      "He chortled in his joy.\n",
      "\n",
      "'Twas brillig, and the slithy toves\n",
      "Did gyre and gimble in the wabe:\n",
      "All mimsy were the borogoves,\n",
      "And the mome raths outgrabe.\n",
      "\n"
     ]
    }
   ],
   "source": [
    "with open('C:\\\\Users\\Srinath\\Downloads\\sample.txt','r') as jabber:\n",
    "    lines = jabber.readlines() # readlines() reads the entire file and returns the file in the list string.\n",
    "print(lines) ## this will give o/p file in the list\n",
    "    \n",
    "for line in lines:\n",
    "    print(line, end='')"
   ]
  },
  {
   "cell_type": "code",
   "execution_count": 20,
   "metadata": {
    "collapsed": true
   },
   "outputs": [
    {
     "name": "stdout",
     "output_type": "stream",
     "text": [
      "[\"'Twas brillig, and the slithy toves\\n\", 'Did gyre and gimble in the wabe;\\n', 'All mimsy were the borogoves,\\n', 'And the mome raths outgrabe.\\n', '\\n', '\"Beware the Jabberwock, my son!\\n', 'The jaws that bite, the claws that catch!\\n', 'Beware the Jubjub bird, and shun\\n', 'The frumious Bandersnatch!\"\\n', '\\n', 'He took his vorpal sword in hand:\\n', 'Long time the manxome foe he sought,\\n', 'So rested he by the Tumtum tree,\\n', 'And stood a while in thought.\\n', '\\n', 'And, as in uffish thought he stood,\\n', 'The Jabberwock, with eyes of flame,\\n', 'Came whiffling through the tulgey wood,\\n', 'And burbled as it came!\\n', '\\n', 'One two! One two! And through and through\\n', 'The vorpal blade went snicker-snack!\\n', 'He left it dead, and with its head\\n', 'He went galumphing back.\\n', '\\n', '\"And hast thou slain the Jabberwock?\\n', 'Come to my arms, my beamish boy!\"\\n', '\"Oh frabjous day! Callooh! Callay!\"\\n', 'He chortled in his joy.\\n', '\\n', \"'Twas brillig, and the slithy toves\\n\", 'Did gyre and gimble in the wabe:\\n', 'All mimsy were the borogoves,\\n', 'And the mome raths outgrabe.\\n', '\\n']\n",
      "\n",
      "And the mome raths outgrabe.\n",
      "All mimsy were the borogoves,\n",
      "Did gyre and gimble in the wabe:\n",
      "'Twas brillig, and the slithy toves\n",
      "\n",
      "He chortled in his joy.\n",
      "\"Oh frabjous day! Callooh! Callay!\"\n",
      "Come to my arms, my beamish boy!\"\n",
      "\"And hast thou slain the Jabberwock?\n",
      "\n",
      "He went galumphing back.\n",
      "He left it dead, and with its head\n",
      "The vorpal blade went snicker-snack!\n",
      "One two! One two! And through and through\n",
      "\n",
      "And burbled as it came!\n",
      "Came whiffling through the tulgey wood,\n",
      "The Jabberwock, with eyes of flame,\n",
      "And, as in uffish thought he stood,\n",
      "\n",
      "And stood a while in thought.\n",
      "So rested he by the Tumtum tree,\n",
      "Long time the manxome foe he sought,\n",
      "He took his vorpal sword in hand:\n",
      "\n",
      "The frumious Bandersnatch!\"\n",
      "Beware the Jubjub bird, and shun\n",
      "The jaws that bite, the claws that catch!\n",
      "\"Beware the Jabberwock, my son!\n",
      "\n",
      "And the mome raths outgrabe.\n",
      "All mimsy were the borogoves,\n",
      "Did gyre and gimble in the wabe;\n",
      "'Twas brillig, and the slithy toves\n"
     ]
    }
   ],
   "source": [
    "with open('C:\\\\Users\\Srinath\\Downloads\\sample.txt','r') as jabber:\n",
    "    lines = jabber.readlines()\n",
    "print(lines) ## this will give o/p file in the list\n",
    "    \n",
    "for line in lines[::-1]: # reading the lines in the reverse order\n",
    "    print(line, end='')"
   ]
  },
  {
   "cell_type": "code",
   "execution_count": 22,
   "metadata": {
    "collapsed": true
   },
   "outputs": [
    {
     "name": "stdout",
     "output_type": "stream",
     "text": [
      "\n",
      "\n",
      ".ebargtuo shtar emom eht dnA\n",
      ",sevogorob eht erew ysmim llA\n",
      ":ebaw eht ni elbmig dna eryg diD\n",
      "sevot yhtils eht dna ,gillirb sawT'\n",
      "\n",
      ".yoj sih ni deltrohc eH\n",
      "\"!yallaC !hoollaC !yad suojbarf hO\"\n",
      "\"!yob hsimaeb ym ,smra ym ot emoC\n",
      "?kcowrebbaJ eht nials uoht tsah dnA\"\n",
      "\n",
      ".kcab gnihpmulag tnew eH\n",
      "daeh sti htiw dna ,daed ti tfel eH\n",
      "!kcans-rekcins tnew edalb laprov ehT\n",
      "hguorht dna hguorht dnA !owt enO !owt enO\n",
      "\n",
      "!emac ti sa delbrub dnA\n",
      ",doow yeglut eht hguorht gnilffihw emaC\n",
      ",emalf fo seye htiw ,kcowrebbaJ ehT\n",
      ",doots eh thguoht hsiffu ni sa ,dnA\n",
      "\n",
      ".thguoht ni elihw a doots dnA\n",
      ",eert mutmuT eht yb eh detser oS\n",
      ",thguos eh eof emoxnam eht emit gnoL\n",
      ":dnah ni drows laprov sih koot eH\n",
      "\n",
      "\"!hctansrednaB suoimurf ehT\n",
      "nuhs dna ,drib bujbuJ eht eraweB\n",
      "!hctac taht swalc eht ,etib taht swaj ehT\n",
      "!nos ym ,kcowrebbaJ eht eraweB\"\n",
      "\n",
      ".ebargtuo shtar emom eht dnA\n",
      ",sevogorob eht erew ysmim llA\n",
      ";ebaw eht ni elbmig dna eryg diD\n",
      "sevot yhtils eht dna ,gillirb sawT'"
     ]
    }
   ],
   "source": [
    "with open('C:\\\\Users\\Srinath\\Downloads\\sample.txt','r') as jabber:\n",
    "    lines = jabber.read() # readline() reads the single line from a file and returns a string.\n",
    "## this will give o/p file in the list\n",
    "    \n",
    "for line in lines[::-1]:\n",
    "    print(line, end='')"
   ]
  },
  {
   "cell_type": "code",
   "execution_count": 1,
   "metadata": {},
   "outputs": [],
   "source": [
    "\"\"\" WRITING THE TEXT_FILE \"\"\"\n",
    "## as you can see the cities content in the python practise of c drive.\n",
    "\n",
    "#cities = ['hyderabad','bangalore','chennai','mumbai','delhi','kolkata']\n",
    "\n",
    "#with open('cities.txt','w') as city_file:\n",
    " #   for city in cities:\n",
    "  #      print(city, file=city_file) ## flush=True method clears internal buffer."
   ]
  },
  {
   "cell_type": "code",
   "execution_count": 5,
   "metadata": {
    "scrolled": false
   },
   "outputs": [
    {
     "name": "stdout",
     "output_type": "stream",
     "text": [
      "['hyderabad', 'bangalore', 'chennai', 'mumbai', 'delhi', 'kolkata']\n",
      "hyderabad\n",
      "bangalore\n",
      "chennai\n",
      "mumbai\n",
      "delhi\n",
      "kolkata\n"
     ]
    }
   ],
   "source": [
    "### to read back the written text file and printout the data\n",
    "\n",
    "cities = [] ## created a empty list\n",
    "\n",
    "with open('cities.txt','r') as city_file: ## reading the file\n",
    "    for city in city_file:\n",
    "        cities.append(city.strip('\\n')) ## appending the city to empty list, strip() method is a string method to strip out the '\\n'.\n",
    "         \n",
    "print(cities) ## printing out the cities\n",
    "for city in cities:\n",
    "    print(city) ## print out city in cities\n",
    "\n",
    "## In the output we got the new line character'\\n' and space b/w lines, to avoid the we can use end = '' or strip(\\n) "
   ]
  },
  {
   "cell_type": "code",
   "execution_count": 8,
   "metadata": {},
   "outputs": [
    {
     "name": "stdout",
     "output_type": "stream",
     "text": [
      "rinath\n"
     ]
    }
   ],
   "source": [
    "''' To see how .strip() works'''\n",
    "\n",
    "print('Srinath'.strip('S')) ## it removes the character only from beginning or end of the string."
   ]
  },
  {
   "cell_type": "code",
   "execution_count": 10,
   "metadata": {},
   "outputs": [
    {
     "name": "stdout",
     "output_type": "stream",
     "text": [
      "('more mayhem', 'imedla may', '2011', ((1, 'pulling the plug'), (2, 'pyscho'), (3, 'mayhem'), (4, 'kentlish town water')))\n"
     ]
    }
   ],
   "source": [
    "#imelda = 'more mayhem','imedla may','2011',(\n",
    "#(1, 'pulling the plug'),(2,'pyscho'),(3,'mayhem'),(4,'kentlish town water'))\n",
    "\n",
    "#with open('imelda.txt','w') as imelda_file:\n",
    " #   print(imelda, file=imelda_file)\n",
    "\n",
    "with open('imelda.txt','r') as imelda_file:\n",
    "    contents = imelda_file.readline()\n",
    "    \n",
    "imelda = eval(contents)\n",
    "print(imelda) ## the o/p content of file looks as tuple but it stored as tuple, it's hard to retrive file data in tuple variable\n",
    "# bcoz it's stored in string,but we can using 'eval() funtn'-could damage the content with large data. and many other ways "
   ]
  },
  {
   "cell_type": "code",
   "execution_count": 3,
   "metadata": {
    "collapsed": true
   },
   "outputs": [
    {
     "name": "stdout",
     "output_type": "stream",
     "text": [
      "2 times of 1 is 2\n",
      "2 times of 2 is 4\n",
      "2 times of 3 is 6\n",
      "2 times of 4 is 8\n",
      "2 times of 5 is 10\n",
      "2 times of 6 is 12\n",
      "2 times of 7 is 14\n",
      "2 times of 8 is 16\n",
      "2 times of 9 is 18\n",
      "2 times of 10 is 20\n",
      "2 times of 11 is 22\n",
      "2 times of 12 is 24\n",
      "====================\n",
      "3 times of 1 is 3\n",
      "3 times of 2 is 6\n",
      "3 times of 3 is 9\n",
      "3 times of 4 is 12\n",
      "3 times of 5 is 15\n",
      "3 times of 6 is 18\n",
      "3 times of 7 is 21\n",
      "3 times of 8 is 24\n",
      "3 times of 9 is 27\n",
      "3 times of 10 is 30\n",
      "3 times of 11 is 33\n",
      "3 times of 12 is 36\n",
      "====================\n",
      "4 times of 1 is 4\n",
      "4 times of 2 is 8\n",
      "4 times of 3 is 12\n",
      "4 times of 4 is 16\n",
      "4 times of 5 is 20\n",
      "4 times of 6 is 24\n",
      "4 times of 7 is 28\n",
      "4 times of 8 is 32\n",
      "4 times of 9 is 36\n",
      "4 times of 10 is 40\n",
      "4 times of 11 is 44\n",
      "4 times of 12 is 48\n",
      "====================\n",
      "5 times of 1 is 5\n",
      "5 times of 2 is 10\n",
      "5 times of 3 is 15\n",
      "5 times of 4 is 20\n",
      "5 times of 5 is 25\n",
      "5 times of 6 is 30\n",
      "5 times of 7 is 35\n",
      "5 times of 8 is 40\n",
      "5 times of 9 is 45\n",
      "5 times of 10 is 50\n",
      "5 times of 11 is 55\n",
      "5 times of 12 is 60\n",
      "====================\n",
      "6 times of 1 is 6\n",
      "6 times of 2 is 12\n",
      "6 times of 3 is 18\n",
      "6 times of 4 is 24\n",
      "6 times of 5 is 30\n",
      "6 times of 6 is 36\n",
      "6 times of 7 is 42\n",
      "6 times of 8 is 48\n",
      "6 times of 9 is 54\n",
      "6 times of 10 is 60\n",
      "6 times of 11 is 66\n",
      "6 times of 12 is 72\n",
      "====================\n",
      "7 times of 1 is 7\n",
      "7 times of 2 is 14\n",
      "7 times of 3 is 21\n",
      "7 times of 4 is 28\n",
      "7 times of 5 is 35\n",
      "7 times of 6 is 42\n",
      "7 times of 7 is 49\n",
      "7 times of 8 is 56\n",
      "7 times of 9 is 63\n",
      "7 times of 10 is 70\n",
      "7 times of 11 is 77\n",
      "7 times of 12 is 84\n",
      "====================\n",
      "8 times of 1 is 8\n",
      "8 times of 2 is 16\n",
      "8 times of 3 is 24\n",
      "8 times of 4 is 32\n",
      "8 times of 5 is 40\n",
      "8 times of 6 is 48\n",
      "8 times of 7 is 56\n",
      "8 times of 8 is 64\n",
      "8 times of 9 is 72\n",
      "8 times of 10 is 80\n",
      "8 times of 11 is 88\n",
      "8 times of 12 is 96\n",
      "====================\n",
      "9 times of 1 is 9\n",
      "9 times of 2 is 18\n",
      "9 times of 3 is 27\n",
      "9 times of 4 is 36\n",
      "9 times of 5 is 45\n",
      "9 times of 6 is 54\n",
      "9 times of 7 is 63\n",
      "9 times of 8 is 72\n",
      "9 times of 9 is 81\n",
      "9 times of 10 is 90\n",
      "9 times of 11 is 99\n",
      "9 times of 12 is 108\n",
      "====================\n",
      "10 times of 1 is 10\n",
      "10 times of 2 is 20\n",
      "10 times of 3 is 30\n",
      "10 times of 4 is 40\n",
      "10 times of 5 is 50\n",
      "10 times of 6 is 60\n",
      "10 times of 7 is 70\n",
      "10 times of 8 is 80\n",
      "10 times of 9 is 90\n",
      "10 times of 10 is 100\n",
      "10 times of 11 is 110\n",
      "10 times of 12 is 120\n",
      "====================\n",
      "11 times of 1 is 11\n",
      "11 times of 2 is 22\n",
      "11 times of 3 is 33\n",
      "11 times of 4 is 44\n",
      "11 times of 5 is 55\n",
      "11 times of 6 is 66\n",
      "11 times of 7 is 77\n",
      "11 times of 8 is 88\n",
      "11 times of 9 is 99\n",
      "11 times of 10 is 110\n",
      "11 times of 11 is 121\n",
      "11 times of 12 is 132\n",
      "====================\n",
      "12 times of 1 is 12\n",
      "12 times of 2 is 24\n",
      "12 times of 3 is 36\n",
      "12 times of 4 is 48\n",
      "12 times of 5 is 60\n",
      "12 times of 6 is 72\n",
      "12 times of 7 is 84\n",
      "12 times of 8 is 96\n",
      "12 times of 9 is 108\n",
      "12 times of 10 is 120\n",
      "12 times of 11 is 132\n",
      "12 times of 12 is 144\n",
      "====================\n"
     ]
    }
   ],
   "source": [
    "with open('sample.txt','a') as tables: # to append times tables into the jabber file.\n",
    "    for i in range(2,13):\n",
    "        for j in range(1,13):\n",
    "            print(f'{i} times of {j} is {i*j}')#, file=tables)\n",
    "        print('='*20)# ,file=tables)"
   ]
  },
  {
   "cell_type": "code",
   "execution_count": 2,
   "metadata": {},
   "outputs": [
    {
     "name": "stdout",
     "output_type": "stream",
     "text": [
      "b'\\x00\\x01\\x02\\x03\\x04\\x05\\x06\\x07\\x08\\t\\n'\n",
      "b'\\x0b\\x0c\\r\\x0e\\x0f\\x10'\n"
     ]
    }
   ],
   "source": [
    "''' Reading and writing of Binary files: \n",
    "(i) we can't store strings/int's directly in binary files we shud convert in bytes using bytes built-in functn\n",
    "(ii) 'b' as we create a binary file '''\n",
    "\n",
    "with open('binary', 'bw') as bin_file: ### 'b' for binary,'w' for write mode.\n",
    "    #for i in range(17):\n",
    "        #bin_file.write(bytes([i])) ## bytes([]) uses 'i' numbers and converts into binary and'.write(method)'writes to binary file.\n",
    "    bin_file.write(bytes(range(17)))  ## other way to write numerical values\n",
    "        \n",
    "with open('binary','br') as binFile:  ### 'b' for binary, 'r' for reading the binary file\n",
    "    for b in binFile:\n",
    "        print(b)"
   ]
  },
  {
   "cell_type": "code",
   "execution_count": 7,
   "metadata": {},
   "outputs": [
    {
     "name": "stdout",
     "output_type": "stream",
     "text": [
      "65534\n",
      "65535\n",
      "65536\n",
      "2993802\n",
      "4278124544\n"
     ]
    }
   ],
   "source": [
    "\"\"\" numbers storing in variables and writing them to a binary_File: \"\"\"\n",
    "\n",
    "## Return an array of bytes representing an integer. If byteorder is “big”, \n",
    "## the most significant byte is at the beginning of the byte array.\n",
    "\n",
    "a = 65534 ## FF EE\n",
    "b = 65535 ## FF FF\n",
    "c = 65536 ## 00 01 00 00\n",
    "d = 2993802 ## 02 2D CD 1E\n",
    "\n",
    "with open('binary2','bw') as bin_file:\n",
    "    bin_file.write(a.to_bytes(2, 'big'))\n",
    "    bin_file.write(b.to_bytes(2, 'big'))\n",
    "    bin_file.write(c.to_bytes(4, 'big'))\n",
    "    bin_file.write(d.to_bytes(4, 'big'))\n",
    "    bin_file.write(a.to_bytes(4, 'little'))\n",
    "\n",
    "\n",
    "### Returns the integer represented by the given array of bytes, .read() to read the file.\n",
    "## To convert bytes to int in Python, use the int.from_bytes() method. \n",
    "## A byte value can be interchanged to an int value using the int.\n",
    "\n",
    "with open('binary2','br') as binfile:\n",
    "    e = int.from_bytes(binfile.read(2), 'big')\n",
    "    print(e)\n",
    "    f = int.from_bytes(binfile.read(2), 'big')\n",
    "    print(f)\n",
    "    g = int.from_bytes(binfile.read(4), 'big')\n",
    "    print(g)\n",
    "    h = int.from_bytes(binfile.read(4), 'big')\n",
    "    print(h)\n",
    "    i = int.from_bytes(binfile.read(4), 'big')\n",
    "    print(i)"
   ]
  },
  {
   "cell_type": "code",
   "execution_count": 9,
   "metadata": {},
   "outputs": [],
   "source": [
    "\"\"\"Using of pickle:\n",
    "“Pickling” is the process whereby a Python object hierarchy is converted into a byte stream.\n",
    "Python pickle module is used for serializing and de-serializing a Python object structure. Any object in Python can be pickled so that it can be saved on disk. ... \n",
    "Pickling is a way to convert a python object (list, dict, etc.) into a character stream.\"\"\"\n",
    "\n",
    "\n",
    "import pickle\n",
    "\n",
    "imelda = ('more mayhem',\n",
    "         'imelda may',\n",
    "         '2011',\n",
    "         ((1,'pulling the rug'),   ## containing tuple of tuple tuples\n",
    "         (2,'pyscho'),\n",
    "         (3,'mayhem'),\n",
    "         (4,'kentlish town water')))\n",
    "\n",
    "with open('imelda.pickle','wb') as pickle_file:\n",
    "    pickle.dump(imelda, pickle_file) ## object can be saved using pickle.dump()method"
   ]
  },
  {
   "cell_type": "code",
   "execution_count": 13,
   "metadata": {},
   "outputs": [
    {
     "name": "stdout",
     "output_type": "stream",
     "text": [
      "('more mayhem', 'imelda may', '2011', ((1, 'pulling the rug'), (2, 'pyscho'), (3, 'mayhem'), (4, 'kentlish town water')))\n",
      "\n",
      "more mayhem\n",
      "imelda may\n",
      "2011\n",
      "\n",
      "1 pulling the rug\n",
      "2 pyscho\n",
      "3 mayhem\n",
      "4 kentlish town water\n"
     ]
    }
   ],
   "source": [
    "with open('imelda.pickle','rb') as imelda_pickle:\n",
    "    imelda2 = pickle.load(imelda_pickle)   ## pickle.load() to retrive the data from binary file\n",
    "    \n",
    "print(imelda2)\n",
    "print()\n",
    "album, artist, year, track_list = imelda2\n",
    "print(album)\n",
    "print(artist)\n",
    "print(year)\n",
    "print()\n",
    "for track in track_list:\n",
    "    track_number, track_title = track\n",
    "    print(track_number, track_title)"
   ]
  },
  {
   "cell_type": "code",
   "execution_count": 23,
   "metadata": {
    "collapsed": true
   },
   "outputs": [
    {
     "data": {
      "text/plain": [
       "0"
      ]
     },
     "execution_count": 23,
     "metadata": {},
     "output_type": "execute_result"
    }
   ],
   "source": [
    "\"\"\" we pickling as many objects/variables into ine file: \"\"\"\n",
    "\"\"\"dump() and load() functions of pickle module perform pickling and unpickling Python data.The dump() function writes \n",
    "pickled object to a file and load() function unpickles data from file to Python object.\"\"\"\n",
    "\n",
    "imelda = ('more mayhem',\n",
    "         'imelda may',\n",
    "         '2011',\n",
    "         ((1,'pulling the rug'),   ## containing tuple of tuples\n",
    "         (2,'pyscho'),\n",
    "         (3,'mayhem'),\n",
    "         (4,'kentlish town water')))\n",
    "\n",
    "even = list(range(0,10,2))\n",
    "odd = list(range(1,10,2))\n",
    "## picking/writing the variables by pickle.dump():\n",
    "\n",
    "with open('imelda.pickle','wb') as pickle_file:\n",
    "    pickle.dump(imelda, pickle_file, protocol=0) # pickle.HIGHEST_PROTOCOL\n",
    "    pickle.dump(even, pickle_file, protocol=0)   ## object can be saved using pickle.dump()method\n",
    "    pickle.dump(odd, pickle_file, protocol=0) #pickle.DEFAULT_PROTOCOL\n",
    "    pickle.dump(21453658, pickle_file, protocol=0) ## we can add/pick as many objects/variables. Here imelda,even,odd,int_number\n",
    "## retriving/reading the variables data by pickle.load():\n",
    "\n",
    "with open('imelda.pickle','rb') as imelda_pickle:\n",
    "    imelda2 = pickle.load(imelda_pickle)   ## pickle.load() to retrive the data from binary file\n",
    "    even_list = pickle.load(imelda_pickle)\n",
    "    odd_list = pickle.load(imelda_pickle)\n",
    "    x = pickle.load(imelda_pickle)  # we've stored the int_number from above into 'x'\n",
    "    \n",
    "print(imelda2)\n",
    "print()\n",
    "album, artist, year, track_list = imelda2\n",
    "print(album)\n",
    "print(artist)\n",
    "print(year)\n",
    "print()\n",
    "print(even_list)\n",
    "print(odd_list)\n",
    "for track in track_list:\n",
    "    track_number, track_title = track\n",
    "    print(track_number, track_title)\n",
    "    \n",
    "print('*'*50)\n",
    "\n",
    "for i in even_list:\n",
    "    print(f'using for loop to print out even_list {i}')\n",
    "    \n",
    "print('*'*50)\n",
    "\n",
    "for i in odd_list:\n",
    "    print(f'using for loop to print out odd_list {i}')\n",
    "\n",
    "print('*'*50)\n",
    "print(x)\n",
    "\n",
    "## to delete the  pcikling file which is unsafe with untrusted data source.\n",
    "\n",
    "# pickle.loads(b\"cos\\nsystem\\n(S'del imelda.pickle'\\ntR.\") # by this line of code we've deleted the file imelda.pickle"
   ]
  },
  {
   "cell_type": "code",
   "execution_count": 24,
   "metadata": {
    "scrolled": false
   },
   "outputs": [
    {
     "name": "stdout",
     "output_type": "stream",
     "text": [
      "Please enter a fruit: quit\n",
      "apple: good for making soda\n",
      "banana: a protien and sweet\n",
      "grape: alchohal and wine\n",
      "lemon: a citrous friut\n",
      "mango: a sweet and delicious\n",
      "orange: a sweet sour\n",
      "samosa: hot and spicy\n"
     ]
    }
   ],
   "source": [
    "\"\"\" USING SHELVES.\n",
    "The shelve module implements persistent storage for arbitrary Python objects which can be pickled, using a dictionary-like API.\n",
    "The shelve module can be used as a simple persistent storage option for Python objects when a relational database is overkill. \n",
    "The shelf is accessed by keys, just as with a dictionary.\"\"\"\n",
    "# using different ways to retrive the data and print it out and also creating of shelve in another way.\n",
    "\n",
    "\n",
    "import shelve\n",
    "\n",
    "## shelves keeps in mind read, write by nature no need to define them:\n",
    "\n",
    "#with shelve.open('shelftest') as friut:\n",
    "friut = shelve.open('shelftest')\n",
    "friut['orange'] = 'a sweet sour'\n",
    "friut['mango'] = 'a sweet and delicious'\n",
    "friut['banana'] = 'a protien and sweet'\n",
    "friut['apple'] = 'good for making soda'\n",
    "friut['lemon'] = 'a citrous friut'\n",
    "friut['grape'] = 'good for making wine'\n",
    "    ### to update value of key \n",
    "friut['grape'] = 'alchohal and wine'\n",
    "friut['samosa'] = 'hot and spicy'   ## to add a new key value .\n",
    "#for snack in friut:  # print out all friuts in friut \n",
    "#    print(snack + ': ' + friut[snack])  # indexing friut[snack]\n",
    "\n",
    "\n",
    "while True:\n",
    "    shelf_key = input('Please enter a fruit: ')\n",
    "    if shelf_key == 'quit':\n",
    "        break\n",
    "    \n",
    "    if shelf_key is friut:\n",
    "        description = friut[shelf_key]\n",
    "        print(description)\n",
    "    else:\n",
    "        print('we don\\'t have the friut' + shelf_key)\n",
    "        \n",
    "    # using else block instead of this code either eay we can do.\n",
    "    #description = friut.get(shelf_key, 'we don\\'t have the friut')\n",
    "    #print(description)\n",
    "    \n",
    "## to print the keys in alphabetical order\n",
    "order_keys = list(friut.keys())\n",
    "order_keys.sort()\n",
    "\n",
    "for f in order_keys:\n",
    "    print(f + ': '+ friut[f])\n",
    "\n",
    "    \n",
    "    #print(friut['lemon'])\n",
    "    #print(friut['grape'])\n",
    "#print(friut)\n",
    "friut.close()"
   ]
  },
  {
   "cell_type": "code",
   "execution_count": 23,
   "metadata": {},
   "outputs": [
    {
     "name": "stdout",
     "output_type": "stream",
     "text": [
      "orange:a sweet sour\n",
      "\n",
      "mango:a sweet and delicious\n",
      "\n",
      "banana:a protien and sweet\n",
      "\n",
      "apple:good for making soda\n",
      "\n",
      "lemon:a citrous friut\n",
      "\n",
      "grape:alchohal and wine\n",
      "\n",
      "samosa:hot and spicy\n",
      "\n",
      "Please enter the friut: quit\n"
     ]
    }
   ],
   "source": [
    "### creating a shelve by dictionary:\n",
    "\n",
    "#import shelve\n",
    "\n",
    "## shelves keeps in mind read, write by nature no need to define them:\n",
    "\n",
    "#with shelve.open('shelftest') as friut:\n",
    "    #friut['orange'] = 'a sweet sour'\n",
    "    #friut['mango'] = 'a sweet and delicious'\n",
    "    #friut['banana'] = 'a protien and sweet'\n",
    "    #friut['apple'] = 'good for making soda'\n",
    "    #friut['lemon'] = 'a citrous friut'\n",
    "    #friut['grape'] = 'good for making wine'\n",
    "    ### to update value of key \n",
    "    #friut['grape'] = 'alchohal and wine'\n",
    "    #friut['samosa'] = 'hot and spicy'   ## to add a new key value .\n",
    "    #for snack in friut:\n",
    "        #print(snack+':'+friut[snack])\n",
    "    #while True:\n",
    " #   shelf_key = input('Please enter a fruit: ')\n",
    " #   if shelf_key == 'quit':\n",
    " #       break\n",
    "    \n",
    "    #if shelf_key is friut:\n",
    "       # description = friut[shelf_key]\n",
    "       # print(description)\n",
    "    #else:\n",
    "     #   print('we don\\'t have the friut' + shelf_key)\n",
    "\n",
    "with shelve.open('shelftest') as friut:\n",
    "    friut= {'orange' : 'a sweet sour',\n",
    "            'mango' : 'a sweet and delicious',\n",
    "            'banana' : 'a protien and sweet',\n",
    "            'apple' : 'good for making soda',\n",
    "            'lemon' : 'a citrous friut',\n",
    "            'grape' : 'good for making wine',\n",
    "           }\n",
    "    \n",
    "friut['grape'] = 'alchohal and wine'  ## to update value for key\n",
    "friut['samosa'] = 'hot and spicy'   ## to add a new key value .\n",
    "## to update values for existing_keys.\n",
    "\n",
    "\n",
    "for snack in friut:\n",
    "    print(snack+':'+friut[snack])\n",
    "    print()\n",
    "    \n",
    "while True:\n",
    "    shelf_key = input('Please enter the friut: ')\n",
    "    if shelf_key == 'quit':\n",
    "        break\n",
    "        \n",
    "    description = friut.get(shelf_key, 'we don\\'t have friut')\n",
    "    print(description)\n",
    "    \n",
    "#print(friut['lemon'])\n",
    "#print(friut['grape'])\n",
    "#print(friut)"
   ]
  },
  {
   "cell_type": "code",
   "execution_count": 2,
   "metadata": {},
   "outputs": [
    {
     "name": "stdout",
     "output_type": "stream",
     "text": [
      "make honda\n",
      "model 250 dream\n",
      "color red\n",
      "engine 250\n",
      "**************************************************\n",
      "honda\n",
      "250\n",
      "<shelve.DbfilenameShelf object at 0x000001C344C0C250>\n"
     ]
    }
   ],
   "source": [
    "import shelve\n",
    "\n",
    "with shelve.open('bike2') as bike:\n",
    "    bike['make'] = 'honda'\n",
    "    bike['model'] = '250 dream'\n",
    "    bike['color'] = 'red'\n",
    "    bike['engine'] = 250 ## bike['engin'] for bike2 added and called for both bike & bike2 db, to remove that use del.\n",
    "   # del bike['engin'] we can del the keys.\n",
    "    \n",
    "    #bike['color'].append['black and red']\n",
    "    \n",
    "    for b in bike:\n",
    "        print(b, bike[b])\n",
    "    print('*'*50)\n",
    "    \n",
    "    print(bike['make'])\n",
    "    #print(bike['engin'])\n",
    "    print(bike['engine'])\n",
    "    \n",
    "print(bike)"
   ]
  },
  {
   "cell_type": "code",
   "execution_count": null,
   "metadata": {},
   "outputs": [],
   "source": []
  }
 ],
 "metadata": {
  "kernelspec": {
   "display_name": "Python 3",
   "language": "python",
   "name": "python3"
  },
  "language_info": {
   "codemirror_mode": {
    "name": "ipython",
    "version": 3
   },
   "file_extension": ".py",
   "mimetype": "text/x-python",
   "name": "python",
   "nbconvert_exporter": "python",
   "pygments_lexer": "ipython3",
   "version": "3.8.5"
  }
 },
 "nbformat": 4,
 "nbformat_minor": 4
}
