{
 "cells": [
  {
   "cell_type": "code",
   "execution_count": 8,
   "metadata": {},
   "outputs": [
    {
     "name": "stdout",
     "output_type": "stream",
     "text": [
      "20\n"
     ]
    }
   ],
   "source": [
    "def multiply(x,y):\n",
    "    result = x*y\n",
    "    return result\n",
    "\n",
    "print(multiply(4,5))"
   ]
  },
  {
   "cell_type": "code",
   "execution_count": 3,
   "metadata": {},
   "outputs": [
    {
     "name": "stdout",
     "output_type": "stream",
     "text": [
      "2\n",
      "4\n",
      "6\n",
      "8\n"
     ]
    }
   ],
   "source": [
    "## using multuiply function in for loop:\n",
    "\n",
    "for val in range(1,5):\n",
    "    result = multiply(2,val)\n",
    "    print(result)"
   ]
  },
  {
   "cell_type": "code",
   "execution_count": 80,
   "metadata": {},
   "outputs": [
    {
     "name": "stdout",
     "output_type": "stream",
     "text": [
      "Please enter a word: s\n",
      "s is a palindrome\n"
     ]
    },
    {
     "data": {
      "text/plain": [
       "False"
      ]
     },
     "execution_count": 80,
     "metadata": {},
     "output_type": "execute_result"
    }
   ],
   "source": [
    "\"\"\" Creating a fumction for palindrome: \"\"\"\n",
    "\n",
    "def is_palindrome(string):\n",
    "    return string[::-1].casefold() == string.casefold() ## \"[::-1]\" is used to reverse a string/list/tuple\".\n",
    "    \n",
    "    #backward = string[::-1]other way of writing the code\n",
    "    # And to get output if the letters is a mix of UPPER and lowercase use \".casefold()\"\n",
    "    #return backward == string\n",
    "\n",
    "word = input(\"Please enter a word: \")\n",
    "if is_palindrome(word):\n",
    "    print(f'{word} is a palindrome')\n",
    "else:\n",
    "    print(f'{word} is not a palindrome')\n",
    "    \n",
    "is_palindrome(\"123\") ## to check the True/Flase if the given input is palindrome"
   ]
  },
  {
   "cell_type": "code",
   "execution_count": 83,
   "metadata": {},
   "outputs": [
    {
     "name": "stdout",
     "output_type": "stream",
     "text": [
      "Please enter the sentence: s\n",
      "s\n",
      "s is a palindrome sentence\n",
      "1231\n"
     ]
    },
    {
     "data": {
      "text/plain": [
       "False"
      ]
     },
     "execution_count": 83,
     "metadata": {},
     "output_type": "execute_result"
    }
   ],
   "source": [
    "\"\"\" To check palindrome with numberes/sentences/words/upper,lower/with spaces/puntuations: \"\"\"\n",
    "\n",
    "def palindrome_sentence(sentence):\n",
    "    string = \"\"      ## creating empty string\n",
    "    for char in sentence:   ## checking characters in sentence parameter(later on argument)\n",
    "        if char.isalnum():  ## isalnum() to check if the sentence is any alpha-numeric\n",
    "            string += char   ## appending empty string with char of sentence\n",
    "    print(string)\n",
    "    return is_palindrome(string)  ## CALLING ANOTHER FUNCTION, MEANS RETURN \n",
    "    # return string[::-1].casefold() == string.casefold(), THIS IS COPIED FROM ABOVE FUNCTN, INSTEAD OF THAT WE CAN CALL FUNCTN \n",
    "\n",
    "word = input(\"Please enter the sentence: \")\n",
    "if palindrome_sentence(word):\n",
    "    print(f'{word} is a palindrome sentence')\n",
    "else:\n",
    "    print(f'{word} is not a palindrome sentence')\n",
    "    \n",
    "    \n",
    "palindrome_sentence('1231')"
   ]
  },
  {
   "cell_type": "code",
   "execution_count": 52,
   "metadata": {},
   "outputs": [
    {
     "name": "stdout",
     "output_type": "stream",
     "text": [
      " Gets integer as standard input(stdin.) \n",
      "    the function will loop around untill user enters valid `int`.\n",
      "    \n",
      "    param: prompt: user will see string, they're prompted when enter a value\n",
      "    return: will return a integer that user enters.\n",
      "********************************************************************************\n",
      "Forward raw_input to frontends\n",
      "\n",
      "        Raises\n",
      "        ------\n",
      "        StdinNotImplentedError if active frontend doesn't support stdin.\n",
      "        \n",
      "********************************************************************************\n",
      "Help on function get_integer in module __main__:\n",
      "\n",
      "get_integer(prompt)\n",
      "    Gets integer as standard input(stdin.) \n",
      "    the function will loop around untill user enters valid `int`.\n",
      "    \n",
      "    param: prompt: user will see string, they're prompted when enter a value\n",
      "    return: will return a integer that user enters.\n",
      "\n",
      "449\n",
      "Please guess a number between 1 and 1000: \n",
      ": 449\n",
      "Well done, you guessed it\n"
     ]
    }
   ],
   "source": [
    "\"\"\" Program for guess_game to ask user for integer instead of string but not terminating the program:\n",
    " Using/creating a function to take input as int and if it's string asks user for intger. \n",
    " AND CREATING DOC_STRING FOR FUNCTION:  \"\"\"\n",
    "\n",
    "import random\n",
    "\n",
    "def get_integer(prompt):  ### USING OF DOC STRINGS FOR FUNCTION(INSIDE) for better understanding what u=actually functn do's.\n",
    "    \"\"\" Gets integer as standard input(stdin.) \n",
    "    the function will loop around untill user enters valid `int`.\n",
    "    \n",
    "    param: prompt: user will see string, they're prompted when enter a value\n",
    "    return: will return a integer that user enters.\"\"\"\n",
    "    while True:\n",
    "        temp = input(prompt)\n",
    "        if temp.isnumeric():\n",
    "            return int(temp)\n",
    "        #else:\n",
    "        print(\"{0} is not valid number\".format(temp)) # used to ask user if enter string instead of number,\n",
    "        # instead of terminating the program. And can use else: block but we indented print() to if stmt.\n",
    "\n",
    "print(get_integer.__doc__)  ## DOC STRING OF WHAT WE DOCUMENTED\n",
    "print(\"*\" * 80)\n",
    "print(input.__doc__)  ## DOC STRING OF SYSTEM DEFINED.125\n",
    "print(\"*\" * 80)\n",
    "## help(get_integer) instead of using .__doc__ method, we can use built-in \"help(function_name)\" to print(doc String.)\n",
    "\n",
    "highest = 1000\n",
    "answer = random.randint(1, highest)\n",
    "print(answer)  # TODO: Remove after testing.\n",
    "guess = 0  # initialise to any number that doesn't equal answer\n",
    "print(\"Please guess a number between 1 and {}: \".format(highest))\n",
    " \n",
    "while guess != answer:\n",
    "    guess = get_integer(\": \") ## int(input())\n",
    "    \n",
    "    if guess == 0:\n",
    "        break\n",
    "    if guess == answer:\n",
    "        print(\"Well done, you guessed it\")\n",
    "        break\n",
    "    else:\n",
    "        if guess < answer:\n",
    "            print(\"Please guess higher\")\n",
    "        else:  # guess must be greater than answer\n",
    "            print(\"Please guess lower\")"
   ]
  },
  {
   "cell_type": "code",
   "execution_count": 5,
   "metadata": {
    "collapsed": true
   },
   "outputs": [
    {
     "name": "stdout",
     "output_type": "stream",
     "text": [
      "(True, False)\n",
      "(True, False)\n",
      "(True, False)\n",
      "(True, False)\n",
      "(True, False)\n",
      "(True, False)\n",
      "(True, False)\n",
      "(True, False)\n",
      "(True, False)\n",
      "(True, False)\n"
     ]
    }
   ],
   "source": [
    "def sum_eo(n,t):\n",
    "    e = n % 2==0\n",
    "    o = n % 2!=0\n",
    "    return e,o\n",
    "\n",
    "\n",
    "for val in range(1,11):\n",
    "    result = sum_eo(2, val)\n",
    "    print(result)"
   ]
  },
  {
   "cell_type": "code",
   "execution_count": 6,
   "metadata": {},
   "outputs": [
    {
     "name": "stdout",
     "output_type": "stream",
     "text": [
      "-1\n"
     ]
    }
   ],
   "source": [
    "def sum_eo(n, t):\n",
    "    \"\"\"Sum even or odd numbers in range.\n",
    "\n",
    "    Return the sum of even or odd natural numbers, in the range 1..n-1.\n",
    "\n",
    "    :param n: The endpoint of the range. The numbers from 1 to n-1 will be summed.\n",
    "    :param t: 'e' to sum even numbers, 'o' to sum odd numbers.\n",
    "    :return: The sum of the even or odd numbers in the range.\n",
    "            Returns -1 if `t` is not 'e' or 'o'.\n",
    "    \"\"\"\n",
    "    if t == \"e\":\n",
    "        start = 2\n",
    "    elif t == 'o':\n",
    "        start = 1\n",
    "    else:\n",
    "        return -1\n",
    "\n",
    "    return sum(range(start, n, 2))\n",
    "\n",
    "\n",
    "x = sum_eo(11, 'spam')\n",
    "print(x)"
   ]
  },
  {
   "cell_type": "code",
   "execution_count": 51,
   "metadata": {},
   "outputs": [
    {
     "name": "stdout",
     "output_type": "stream",
     "text": [
      "********************************************************************************\n",
      "**                              Cheri Cheri Lady                              **\n",
      "**                           Goin' through emotion                            **\n",
      "**               Love is where you find it Listen to your heart               **\n",
      "**                                                                            **\n",
      "**                              Cheri Cheri Lady                              **\n",
      "**                             Livin' in devotion                             **\n",
      "**             It's always like the first time Let me take a part             **\n",
      "********************************************************************************\n",
      "\n",
      "**                            Nothing is returned                             **\n",
      "None\n"
     ]
    }
   ],
   "source": [
    "\"\"\" Performing actions: means function which don't return result but perform actions\"\"\"\n",
    "\n",
    "def banner_text(text):\n",
    "    screen_width = 80\n",
    "    if len(text) > screen_width - 4:\n",
    "        print(\"EEK\")\n",
    "        print(\"THAT IS TOO LONG TO BE DISPLAYED ON THE SCREEN....\")\n",
    "        \n",
    "    if text ==\"*\":\n",
    "        print(\"*\" * screen_width)\n",
    "    else:\n",
    "        centered_text = text.center(screen_width-4)\n",
    "        output_string= \"**{}**\".format(centered_text)\n",
    "        print(output_string)\n",
    "        \n",
    "\n",
    "banner_text(\"*\")\n",
    "banner_text(\"Cheri Cheri Lady\")\n",
    "banner_text(\"Goin' through emotion\")\n",
    "banner_text(\"Love is where you find it Listen to your heart\")\n",
    "banner_text(\" \")\n",
    "banner_text(\"Cheri Cheri Lady\")\n",
    "banner_text(\"Livin' in devotion\")\n",
    "banner_text(\"It's always like the first time Let me take a part\")\n",
    "banner_text(\"*\")\n",
    "print()\n",
    "\n",
    "result = banner_text(\"Nothing is returned\")\n",
    "print(result)   ### their is no return used in this function, so it has returned \"None\"."
   ]
  },
  {
   "cell_type": "code",
   "execution_count": 37,
   "metadata": {
    "collapsed": true
   },
   "outputs": [
    {
     "name": "stdout",
     "output_type": "stream",
     "text": [
      "****************************************\n",
      "**          Cheri Cheri Lady          **\n",
      "**       Goin' through emotion        **\n"
     ]
    },
    {
     "ename": "ValueError",
     "evalue": "StringLove is where you find it Listen to your heart is larger than excepted width40",
     "output_type": "error",
     "traceback": [
      "\u001b[1;31m---------------------------------------------------------------------------\u001b[0m",
      "\u001b[1;31mValueError\u001b[0m                                Traceback (most recent call last)",
      "\u001b[1;32m<ipython-input-37-7c2ec7c51336>\u001b[0m in \u001b[0;36m<module>\u001b[1;34m\u001b[0m\n\u001b[0;32m     16\u001b[0m \u001b[0mbanner_text\u001b[0m\u001b[1;33m(\u001b[0m\u001b[1;34m\"Cheri Cheri Lady\"\u001b[0m\u001b[1;33m)\u001b[0m\u001b[1;33m\u001b[0m\u001b[1;33m\u001b[0m\u001b[0m\n\u001b[0;32m     17\u001b[0m \u001b[0mbanner_text\u001b[0m\u001b[1;33m(\u001b[0m\u001b[1;34m\"Goin' through emotion\"\u001b[0m\u001b[1;33m)\u001b[0m\u001b[1;33m\u001b[0m\u001b[1;33m\u001b[0m\u001b[0m\n\u001b[1;32m---> 18\u001b[1;33m \u001b[0mbanner_text\u001b[0m\u001b[1;33m(\u001b[0m\u001b[1;34m\"Love is where you find it Listen to your heart\"\u001b[0m\u001b[1;33m)\u001b[0m\u001b[1;33m\u001b[0m\u001b[1;33m\u001b[0m\u001b[0m\n\u001b[0m\u001b[0;32m     19\u001b[0m \u001b[0mbanner_text\u001b[0m\u001b[1;33m(\u001b[0m\u001b[1;34m\" \"\u001b[0m\u001b[1;33m)\u001b[0m\u001b[1;33m\u001b[0m\u001b[1;33m\u001b[0m\u001b[0m\n\u001b[0;32m     20\u001b[0m \u001b[0mbanner_text\u001b[0m\u001b[1;33m(\u001b[0m\u001b[1;34m\"Cheri Cheri Lady\"\u001b[0m\u001b[1;33m)\u001b[0m\u001b[1;33m\u001b[0m\u001b[1;33m\u001b[0m\u001b[0m\n",
      "\u001b[1;32m<ipython-input-37-7c2ec7c51336>\u001b[0m in \u001b[0;36mbanner_text\u001b[1;34m(text)\u001b[0m\n\u001b[0;32m      4\u001b[0m     \u001b[0mscreen_width\u001b[0m \u001b[1;33m=\u001b[0m \u001b[1;36m40\u001b[0m\u001b[1;33m\u001b[0m\u001b[1;33m\u001b[0m\u001b[0m\n\u001b[0;32m      5\u001b[0m     \u001b[1;32mif\u001b[0m \u001b[0mlen\u001b[0m\u001b[1;33m(\u001b[0m\u001b[0mtext\u001b[0m\u001b[1;33m)\u001b[0m \u001b[1;33m>\u001b[0m \u001b[0mscreen_width\u001b[0m \u001b[1;33m-\u001b[0m \u001b[1;36m4\u001b[0m\u001b[1;33m:\u001b[0m\u001b[1;33m\u001b[0m\u001b[1;33m\u001b[0m\u001b[0m\n\u001b[1;32m----> 6\u001b[1;33m         \u001b[1;32mraise\u001b[0m \u001b[0mValueError\u001b[0m\u001b[1;33m(\u001b[0m\u001b[1;34m\"String{0} is larger than excepted width{1}\"\u001b[0m\u001b[1;33m.\u001b[0m\u001b[0mformat\u001b[0m\u001b[1;33m(\u001b[0m\u001b[0mtext\u001b[0m\u001b[1;33m,\u001b[0m \u001b[0mscreen_width\u001b[0m\u001b[1;33m)\u001b[0m\u001b[1;33m)\u001b[0m\u001b[1;33m\u001b[0m\u001b[1;33m\u001b[0m\u001b[0m\n\u001b[0m\u001b[0;32m      7\u001b[0m     \u001b[1;32mif\u001b[0m \u001b[0mtext\u001b[0m \u001b[1;33m==\u001b[0m\u001b[1;34m\"*\"\u001b[0m\u001b[1;33m:\u001b[0m\u001b[1;33m\u001b[0m\u001b[1;33m\u001b[0m\u001b[0m\n\u001b[0;32m      8\u001b[0m         \u001b[0mprint\u001b[0m\u001b[1;33m(\u001b[0m\u001b[1;34m\"*\"\u001b[0m \u001b[1;33m*\u001b[0m \u001b[0mscreen_width\u001b[0m\u001b[1;33m)\u001b[0m\u001b[1;33m\u001b[0m\u001b[1;33m\u001b[0m\u001b[0m\n",
      "\u001b[1;31mValueError\u001b[0m: StringLove is where you find it Listen to your heart is larger than excepted width40"
     ]
    }
   ],
   "source": [
    "\"\"\" Checking with screen_width, if it's less then given value raise exception: \"\"\"\n",
    "## By this we can raise a error exception if screen_width is too long. \n",
    "\n",
    "\n",
    "def banner_text(text):\n",
    "    screen_width = 40\n",
    "    if len(text) > screen_width - 4:\n",
    "        raise ValueError(\"String{0} is larger than excepted width{1}\".format(text, screen_width))\n",
    "    \n",
    "    if text ==\"*\":\n",
    "        print(\"*\" * screen_width)\n",
    "    else:\n",
    "        centered_text = text.center(screen_width-4)\n",
    "        output_string= \"**{}**\".format(centered_text)\n",
    "        print(output_string)\n",
    "        \n",
    "\n",
    "banner_text(\"*\")\n",
    "banner_text(\"Cheri Cheri Lady\")\n",
    "banner_text(\"Goin' through emotion\")\n",
    "banner_text(\"Love is where you find it Listen to your heart\")\n",
    "banner_text(\" \")\n",
    "banner_text(\"Cheri Cheri Lady\")\n",
    "banner_text(\"Livin' in devotion\")\n",
    "banner_text(\"It's always like the first time Let me take a part\")\n",
    "banner_text(\"*\")"
   ]
  },
  {
   "cell_type": "code",
   "execution_count": 47,
   "metadata": {},
   "outputs": [
    {
     "name": "stdout",
     "output_type": "stream",
     "text": [
      "********************************************************************************\n",
      "**                              Cheri Cheri Lady                              **\n",
      "**                           Goin' through emotion                            **\n",
      "**               Love is where you find it Listen to your heart               **\n",
      "**                                                                            **\n",
      "**                              Cheri Cheri Lady                              **\n",
      "**                             Livin' in devotion                             **\n",
      "**   It's always like the first time Let me take a part   **\n",
      "********************************************************************************\n"
     ]
    }
   ],
   "source": [
    "\"\"\" Giving default parameters value/argument: \"\"\"\n",
    "\n",
    "def banner_text(text, screen_width=80): ## default parameter value (can give text = \" \" as parameter to print blank line wherever neccessary like on banner_text(\"\"))\n",
    "    if len(text) > screen_width - 4:\n",
    "         raise ValueError(\"String{0} is larger than excepted width{1}\".format(text, screen_width))\n",
    "        \n",
    "    if text ==\"*\":\n",
    "        print(\"*\" * screen_width)\n",
    "    else:\n",
    "        centered_text = text.center(screen_width-4)\n",
    "        output_string= \"**{}**\".format(centered_text)\n",
    "        print(output_string)\n",
    "        \n",
    "\n",
    "banner_text(\"*\")\n",
    "banner_text(\"Cheri Cheri Lady\")\n",
    "banner_text(\"Goin' through emotion\")\n",
    "banner_text(\"Love is where you find it Listen to your heart\")\n",
    "banner_text(\" \")\n",
    "banner_text(\"Cheri Cheri Lady\")\n",
    "banner_text(\"Livin' in devotion\")\n",
    "banner_text(\"It's always like the first time Let me take a part\",60) ## we can argument here also after providing the default parameter\n",
    "banner_text(\"*\")"
   ]
  },
  {
   "cell_type": "code",
   "execution_count": 66,
   "metadata": {
    "collapsed": true
   },
   "outputs": [
    {
     "name": "stdout",
     "output_type": "stream",
     "text": [
      " Returns 'n'th fibonnaci number, for the 'n' postive values.\n",
      "0 0\n",
      "1 1\n",
      "2 1\n",
      "3 2\n",
      "4 3\n",
      "5 5\n",
      "6 8\n",
      "7 13\n",
      "8 21\n",
      "9 34\n"
     ]
    }
   ],
   "source": [
    "\"\"\" fucntion for fibonnaci series: \"\"\"\n",
    "\n",
    "def fibonnaci(n):\n",
    "    \"\"\" Returns 'n'th fibonnaci number, for the 'n' postive values.\"\"\"\n",
    "    \n",
    "    if 0 <= n <= 1:\n",
    "        return n\n",
    "    \n",
    "    a,b = 1, 0\n",
    "    \n",
    "    #result = None\n",
    "    for f in range(n-1):\n",
    "        result = b + a\n",
    "        b = a\n",
    "        a = result\n",
    "        \n",
    "    return result\n",
    "\n",
    "#fibonnaci(35)\n",
    "print(fibonnaci.__doc__) ## gets doc_string of function\n",
    "\n",
    "## to test the fibonnaci with range of numbers.\n",
    "for i in range(10):\n",
    "    print(i, fibonnaci(i))"
   ]
  },
  {
   "cell_type": "code",
   "execution_count": 89,
   "metadata": {},
   "outputs": [
    {
     "name": "stdout",
     "output_type": "stream",
     "text": [
      "\u001b[31mHello, Red\u001b[0m\n",
      "This should be in the default terminal colour\n",
      "\u001b[34mHello, Blue\u001b[0m\n",
      "\u001b[33mHello, Yellow\u001b[0m\n",
      "\u001b[1mHello, Bold\u001b[0m\n",
      "\u001b[4mHello, Underline\u001b[0m\n",
      "\u001b[7mHello, Reverse\u001b[0m\n",
      "\u001b[30mHello, Black\u001b[0m\n"
     ]
    }
   ],
   "source": [
    "# Some ANSI escape sequences for colours and effects:\n",
    "\n",
    "BLACK = '\\u001b[30m'\n",
    "RED = '\\u001b[31m'\n",
    "GREEN = '\\u001b[32m'\n",
    "YELLOW = '\\u001b[33m'\n",
    "BLUE = '\\u001b[34m'\n",
    "MAGENTA = '\\u001b[35m'\n",
    "CYAN = '\\u001b[36m'\n",
    "WHITE = '\\u001b[37m'\n",
    "RESET = '\\u001b[0m'\n",
    " \n",
    "BOLD = '\\u001b[1m'\n",
    "UNDERLINE = '\\u001b[4m'\n",
    "REVERSE = '\\u001b[7m'\n",
    "\n",
    "## text: str, effect: str -> None we've annotated the parameters of the function:\n",
    "\n",
    "def colour_print(text: str, effect: str) -> None:\n",
    "    \"\"\" To print the text in ANSI sequence of colours\n",
    "    parameters: text -> to print the text\n",
    "                effect -> the effect we want, one defined above.\"\"\"\n",
    "    output_string = \"{0}{1}{2}\".format(effect, text, RESET)\n",
    "    print(output_string)\n",
    "\n",
    "colour_print(\"Hello, Red\", RED)\n",
    "# test that the colour was reset\n",
    "print(\"This should be in the default terminal colour\")\n",
    "colour_print(\"Hello, Blue\", BLUE)\n",
    "colour_print(\"Hello, Yellow\", YELLOW)\n",
    "colour_print(\"Hello, Bold\", BOLD)\n",
    "colour_print(\"Hello, Underline\", UNDERLINE)\n",
    "colour_print(\"Hello, Reverse\", REVERSE)\n",
    "colour_print(\"Hello, Black\", BLACK)"
   ]
  },
  {
   "cell_type": "code",
   "execution_count": 91,
   "metadata": {},
   "outputs": [
    {
     "name": "stdout",
     "output_type": "stream",
     "text": [
      "['a', 'v', 'k', 's']\n"
     ]
    }
   ],
   "source": [
    "p = ['a', 'r', 'y', 'v', 'k', 's']\n",
    "del(p[1:3])\n",
    "print(p)"
   ]
  },
  {
   "cell_type": "code",
   "execution_count": 93,
   "metadata": {},
   "outputs": [
    {
     "data": {
      "text/plain": [
       "[1, -2]"
      ]
     },
     "execution_count": 93,
     "metadata": {},
     "output_type": "execute_result"
    }
   ],
   "source": [
    "x = [0, 1, -2]\n",
    "x[1:] = [3]"
   ]
  },
  {
   "cell_type": "code",
   "execution_count": 96,
   "metadata": {},
   "outputs": [
    {
     "ename": "TypeError",
     "evalue": "unsupported operand type(s) for +: 'bool' and 'str'",
     "output_type": "error",
     "traceback": [
      "\u001b[1;31m---------------------------------------------------------------------------\u001b[0m",
      "\u001b[1;31mTypeError\u001b[0m                                 Traceback (most recent call last)",
      "\u001b[1;32m<ipython-input-96-9dd76e2d1a8f>\u001b[0m in \u001b[0;36m<module>\u001b[1;34m\u001b[0m\n\u001b[0;32m      2\u001b[0m \u001b[1;36m6\u001b[0m \u001b[1;33m+\u001b[0m \u001b[1;36m6.5\u001b[0m\u001b[1;33m\u001b[0m\u001b[1;33m\u001b[0m\u001b[0m\n\u001b[0;32m      3\u001b[0m \u001b[1;33m\u001b[0m\u001b[0m\n\u001b[1;32m----> 4\u001b[1;33m \u001b[1;32mTrue\u001b[0m \u001b[1;33m+\u001b[0m \u001b[1;34m\"r\"\u001b[0m\u001b[1;33m\u001b[0m\u001b[1;33m\u001b[0m\u001b[0m\n\u001b[0m",
      "\u001b[1;31mTypeError\u001b[0m: unsupported operand type(s) for +: 'bool' and 'str'"
     ]
    }
   ],
   "source": [
    "bool(5) + 7\n",
    "6 + 6.5\n",
    "\n",
    "True + \"r\""
   ]
  },
  {
   "cell_type": "code",
   "execution_count": 99,
   "metadata": {},
   "outputs": [
    {
     "name": "stdout",
     "output_type": "stream",
     "text": [
      "Help on built-in function len in module builtins:\n",
      "\n",
      "len(obj, /)\n",
      "    Return the number of items in a container.\n",
      "\n"
     ]
    }
   ],
   "source": [
    "help(len)"
   ]
  },
  {
   "cell_type": "code",
   "execution_count": 100,
   "metadata": {},
   "outputs": [],
   "source": [
    "import numpy as np\n",
    "\n",
    "x = np.array([[1, 2, 7],\n",
    "              [7, 7, 1]])\n",
    "y = np.array([[6, 5, 5], \n",
    "              [0, 6, 1]])"
   ]
  },
  {
   "cell_type": "code",
   "execution_count": 101,
   "metadata": {},
   "outputs": [
    {
     "name": "stdout",
     "output_type": "stream",
     "text": [
      "[[ 7  7 12]\n",
      " [ 7 13  2]]\n"
     ]
    }
   ],
   "source": [
    "print(x+y)"
   ]
  },
  {
   "cell_type": "code",
   "execution_count": 102,
   "metadata": {},
   "outputs": [
    {
     "name": "stdout",
     "output_type": "stream",
     "text": [
      "['3' '4' 'True' 'False' '5.2']\n"
     ]
    }
   ],
   "source": [
    "x = np.array([3, 4, True, False, \"5.2\"])\n",
    "print(x)"
   ]
  },
  {
   "cell_type": "code",
   "execution_count": 106,
   "metadata": {},
   "outputs": [
    {
     "name": "stdout",
     "output_type": "stream",
     "text": [
      "['1' '2' '3' '4' '5' 'False' 'r3.2']\n"
     ]
    }
   ],
   "source": [
    "d = np.array([1,2,3,4,5, False, 'r3.2'])\n",
    "print(d)"
   ]
  },
  {
   "cell_type": "code",
   "execution_count": 112,
   "metadata": {},
   "outputs": [
    {
     "name": "stdout",
     "output_type": "stream",
     "text": [
      "[12, 3]\n"
     ]
    }
   ],
   "source": [
    "x = [10, 12, 3, 7, 8]\n",
    "print(x[1:3])"
   ]
  },
  {
   "cell_type": "code",
   "execution_count": 133,
   "metadata": {},
   "outputs": [],
   "source": [
    "def div(n):\n",
    "    if n % 3 == 0:\n",
    "        print('fizz')\n",
    "    elif n % 5 == 0:\n",
    "        print('buzz')\n",
    "    elif n % 15 == 0:\n",
    "        print('fizz buzz...')\n",
    "    else:\n",
    "        print('fizz buzz doesn\\'t work with this number..')    "
   ]
  },
  {
   "cell_type": "code",
   "execution_count": 134,
   "metadata": {},
   "outputs": [
    {
     "name": "stdout",
     "output_type": "stream",
     "text": [
      "fizz\n"
     ]
    }
   ],
   "source": [
    "div(3)"
   ]
  },
  {
   "cell_type": "code",
   "execution_count": 135,
   "metadata": {},
   "outputs": [
    {
     "name": "stdout",
     "output_type": "stream",
     "text": [
      "buzz\n"
     ]
    }
   ],
   "source": [
    "div(5)"
   ]
  },
  {
   "cell_type": "code",
   "execution_count": 136,
   "metadata": {},
   "outputs": [
    {
     "name": "stdout",
     "output_type": "stream",
     "text": [
      "fizz\n"
     ]
    }
   ],
   "source": [
    "div(15)"
   ]
  },
  {
   "cell_type": "code",
   "execution_count": 128,
   "metadata": {
    "collapsed": true
   },
   "outputs": [
    {
     "name": "stdout",
     "output_type": "stream",
     "text": [
      "\n",
      "    Play Fizz buzz\n",
      " \n",
      "    :param number: The number to check.\n",
      "    :return: 'fizz' if the number is divisible by 3.\n",
      "        'buzz' if it's divisible by 5.\n",
      "        'fizz buzz' if it's divisible by both 3 and 5.\n",
      "        The number, as a string, otherwise.\n",
      "    \n",
      "1\n",
      "2\n",
      "fizz\n",
      "4\n",
      "buzz\n",
      "fizz\n",
      "7\n",
      "8\n",
      "fizz\n",
      "buzz\n",
      "11\n",
      "fizz\n",
      "13\n",
      "14\n",
      "fizz buzz\n",
      "16\n",
      "17\n",
      "fizz\n",
      "19\n",
      "buzz\n",
      "fizz\n",
      "22\n",
      "23\n",
      "fizz\n",
      "buzz\n",
      "26\n",
      "fizz\n",
      "28\n",
      "29\n",
      "fizz buzz\n",
      "31\n",
      "32\n",
      "fizz\n",
      "34\n",
      "buzz\n",
      "fizz\n",
      "37\n",
      "38\n",
      "fizz\n",
      "buzz\n",
      "41\n",
      "fizz\n",
      "43\n",
      "44\n",
      "fizz buzz\n",
      "46\n",
      "47\n",
      "fizz\n",
      "49\n"
     ]
    }
   ],
   "source": [
    "\"\"\" Playing FIZZ_BUZZ GAME :\n",
    "1. using annotated parameters\n",
    "2. using doc_strings to guess the function\"\"\"\n",
    "\n",
    "print(fizz_buzz.__doc__)\n",
    "\n",
    "def fizz_buzz(number: int) -> str:\n",
    "    \"\"\"\n",
    "    Play Fizz buzz\n",
    " \n",
    "    :param number: The number to check.\n",
    "    :return: 'fizz' if the number is divisible by 3.\n",
    "        'buzz' if it's divisible by 5.\n",
    "        'fizz buzz' if it's divisible by both 3 and 5.\n",
    "        The number, as a string, otherwise.\n",
    "    \"\"\"\n",
    "    if number % 15 == 0:\n",
    "        return \"fizz buzz\"\n",
    "    elif number % 3 == 0:\n",
    "        return \"fizz\"\n",
    "    elif number % 5 == 0:\n",
    "        return \"buzz\"\n",
    "    else:\n",
    "        return str(number)\n",
    " \n",
    " \n",
    "for i in range(1, 50): ## taken a range of numbers(1,50)\n",
    "    print(fizz_buzz(i)) ## using fizz_buzz functn to that range.\n",
    "    \n",
    "# fizz_buzz(15), can also check the function individual numbers"
   ]
  },
  {
   "cell_type": "code",
   "execution_count": 151,
   "metadata": {},
   "outputs": [
    {
     "name": "stdout",
     "output_type": "stream",
     "text": [
      "Play fizz buzz.     press ENTER to start: \n",
      "1\n",
      " Your go: 2\n",
      "fizz\n",
      " Your go: 4\n",
      "buzz\n",
      " Your go: 7\n",
      "you lose, the correct answer is fizz\n"
     ]
    }
   ],
   "source": [
    "\"\"\" Program to take input from user and increase the input by 1 and compare with computer answer \"\"\"\n",
    "\n",
    "\n",
    "input(\"Play fizz buzz.     press ENTER to start: \")\n",
    "\n",
    "next_number = 0\n",
    "while next_number < 99:\n",
    "    next_number += 1\n",
    "    print(fizz_buzz(next_number))\n",
    "    next_number += 1\n",
    "    correct_answer = fizz_buzz(next_number)\n",
    "    player_answer = input(\" Your go: \")\n",
    "    #player_answer = correct_answer #to cheat the code and result of 99 numbers\n",
    "    if player_answer != correct_answer:\n",
    "        print(\"you lose, the correct answer is {}\".format(correct_answer))\n",
    "        break\n",
    "else:\n",
    "    print(\"well done, you reached {}\".format(next_number))"
   ]
  },
  {
   "cell_type": "code",
   "execution_count": 180,
   "metadata": {
    "collapsed": true
   },
   "outputs": [
    {
     "name": "stdout",
     "output_type": "stream",
     "text": [
      "1 1\n",
      "2 2\n",
      "3 6\n",
      "4 24\n",
      "5 120\n",
      "6 720\n",
      "7 5040\n",
      "8 40320\n",
      "9 362880\n",
      "10 3628800\n",
      "11 39916800\n",
      "12 479001600\n",
      "13 6227020800\n",
      "14 87178291200\n",
      "15 1307674368000\n",
      "16 20922789888000\n",
      "17 355687428096000\n",
      "18 6402373705728000\n",
      "19 121645100408832000\n",
      "20 2432902008176640000\n",
      "21 51090942171709440000\n",
      "22 1124000727777607680000\n",
      "23 25852016738884976640000\n",
      "24 620448401733239439360000\n",
      "25 15511210043330985984000000\n",
      "26 403291461126605635584000000\n",
      "27 10888869450418352160768000000\n",
      "28 304888344611713860501504000000\n",
      "29 8841761993739701954543616000000\n",
      "30 265252859812191058636308480000000\n",
      "31 8222838654177922817725562880000000\n",
      "32 263130836933693530167218012160000000\n",
      "33 8683317618811886495518194401280000000\n",
      "34 295232799039604140847618609643520000000\n",
      "35 10333147966386144929666651337523200000000\n"
     ]
    }
   ],
   "source": [
    "\"\"\" To know the factorial for number of range.\"\"\"\n",
    "\n",
    "def factorial(number: int) -> int:\n",
    "    \"\"\" Returns n!(0! is 1).\"\"\"\n",
    "    if number <= 1:\n",
    "        return 1\n",
    "    return number * factorial(number-1)\n",
    "    \n",
    "   # result = 2\n",
    "    #for x in range(3, number + 1):\n",
    "     #   result *= x\n",
    "    #return result\n",
    "        \n",
    "for i in range(1,36):\n",
    "    print(i, factorial(i))"
   ]
  },
  {
   "cell_type": "code",
   "execution_count": 181,
   "metadata": {
    "collapsed": true
   },
   "outputs": [
    {
     "name": "stdout",
     "output_type": "stream",
     "text": [
      "1 1\n",
      "2 2\n",
      "3 6\n",
      "4 24\n",
      "5 120\n",
      "6 720\n",
      "7 5040\n",
      "8 40320\n",
      "9 362880\n"
     ]
    }
   ],
   "source": [
    "\"\"\" Using recursion method: \"\"\"\n",
    "\n",
    "def fac(n: int):\n",
    "    if n <= 1:\n",
    "        return 1\n",
    "    return n * fac(n-1)\n",
    "\n",
    "for i in range(1,10):\n",
    "    print(i, fac(i))"
   ]
  },
  {
   "cell_type": "code",
   "execution_count": 188,
   "metadata": {},
   "outputs": [
    {
     "name": "stdout",
     "output_type": "stream",
     "text": [
      "positional-or-keyword agrumnets:...............................0, 1\n",
      "var-positional(*args) passing as many as args:.................(2, 3, 4, 5)\n",
      "keyword-arguments should define value to key=value(fixed):.....6\n",
      "var-keywaord arguments(**kargrs)(key:value)pair................{'key1': 7, 'key2': 8}\n"
     ]
    }
   ],
   "source": [
    "\"\"\" Definig the parameters in order: \"\"\"\n",
    "\n",
    "def func(p1, p2, *args, k, **kargs):\n",
    "    print(\"positional-or-keyword agrumnets:...............................{}, {}\".format(p1,p2))\n",
    "    print(\"var-positional(*args) passing as many as args:.................{}\".format(args))\n",
    "    print(\"keyword-arguments should define value to key=value(fixed):.....{}\".format(k))\n",
    "    print(\"var-keywaord arguments(**kargrs)(key:value)pair................{}\".format(kargs))\n",
    "    \n",
    "func(0,1,2,3,4,5, k = 6, key1 =7, key2 =8)"
   ]
  },
  {
   "cell_type": "code",
   "execution_count": 203,
   "metadata": {},
   "outputs": [
    {
     "name": "stdout",
     "output_type": "stream",
     "text": [
      " calculates the sum of all the numbers passed as arguments \n",
      "\n",
      "6\n",
      "30\n",
      "113.647\n",
      "8.8\n"
     ]
    }
   ],
   "source": [
    "def sum_numbers(*values: int) -> int:\n",
    "    \"\"\" calculates the sum of all the numbers passed as arguments \"\"\"\n",
    "    result = 0\n",
    "    for number in values:\n",
    "        result += number\n",
    "    return result\n",
    "\n",
    "print(sum_numbers.__doc__)\n",
    "print()\n",
    "print(sum_numbers(1, 2, 3))\n",
    "print(sum_numbers(8, 20, 2))\n",
    "print(sum_numbers(12.5, 3.147, 98.0))\n",
    "print(sum_numbers(1.1, 2.2, 5.5))"
   ]
  },
  {
   "cell_type": "code",
   "execution_count": 211,
   "metadata": {},
   "outputs": [
    {
     "name": "stdout",
     "output_type": "stream",
     "text": [
      " Returns the sum of all numbers passed as argument\n",
      " \t using built-in functn sum(): \n",
      "\n",
      "130.5\n",
      "45\n"
     ]
    }
   ],
   "source": [
    "def sum_num(*numbers:int):\n",
    "    \" Returns the sum of all numbers passed as argument\\n \\t using built-in functn sum(): \"\n",
    "    return sum(numbers)  ### using sum() built-in function we simplified the code\n",
    "\n",
    "\n",
    "print(sum_num.__doc__)\n",
    "print()\n",
    "print(sum_num(10.5,55.4,64.6))\n",
    "print(sum_num(1,2,3,4,5,6,7,8,9))"
   ]
  },
  {
   "cell_type": "code",
   "execution_count": null,
   "metadata": {},
   "outputs": [],
   "source": []
  }
 ],
 "metadata": {
  "kernelspec": {
   "display_name": "Python 3",
   "language": "python",
   "name": "python3"
  },
  "language_info": {
   "codemirror_mode": {
    "name": "ipython",
    "version": 3
   },
   "file_extension": ".py",
   "mimetype": "text/x-python",
   "name": "python",
   "nbconvert_exporter": "python",
   "pygments_lexer": "ipython3",
   "version": "3.8.5"
  }
 },
 "nbformat": 4,
 "nbformat_minor": 4
}
