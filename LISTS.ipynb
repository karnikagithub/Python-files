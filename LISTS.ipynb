{
 "cells": [
  {
   "cell_type": "markdown",
   "metadata": {},
   "source": [
    "                list- can define with any values - numeric,alpha and alpha numeric and are defined b/w [square brackets]\n",
    "                   and are mutable. And allows duplicates."
   ]
  },
  {
   "cell_type": "code",
   "execution_count": 7,
   "metadata": {},
   "outputs": [
    {
     "name": "stdout",
     "output_type": "stream",
     "text": [
      "['4', '2', '5', '8', '9', '7', '5', '6', '1', '2']\n",
      "['4', '2', '5', '8', '9', '7', '5', '6', '1', '2']\n",
      "False\n",
      "True\n",
      "['4', '2', '5', '8', '9', '7', '5', '6', '1', '2']\n",
      "2119167974016\n",
      "2119169131456\n"
     ]
    }
   ],
   "source": [
    "#l1 = [1,2,3,4,5,6] print(l1)\n",
    "#l2 = ['cap', 'black','hulk','ironman','strange'] print(l2)\n",
    "\n",
    "digits = list('4258975612') ## here is list is a function to create list.\n",
    "numbers = digits[:]  ##using slicing we can create numbers.\n",
    "print(numbers)\n",
    "\n",
    "more_numbers = numbers.copy() ## method to copy a existing list\n",
    "print(more_numbers)\n",
    "print(more_numbers is digits) ## return False both have same values in same ordered but both are different lists\n",
    "print(numbers == digits) ## return True both value of list are equal and same\n",
    "print(digits)\n",
    "print(id(numbers))\n",
    "print(id(digits))"
   ]
  },
  {
   "cell_type": "code",
   "execution_count": 8,
   "metadata": {},
   "outputs": [
    {
     "name": "stdout",
     "output_type": "stream",
     "text": [
      "['8', '9', '7', '5', '6', '1', '2']\n",
      "['4', '2', '5', '8', '9', '0', '0', '0', '0']\n"
     ]
    }
   ],
   "source": [
    "## slicing the list/replacing a list using slicing\n",
    "print(numbers[3:])\n",
    "numbers[5:] = ['0','0','0','0']\n",
    "print(numbers)"
   ]
  },
  {
   "cell_type": "code",
   "execution_count": 10,
   "metadata": {
    "scrolled": true
   },
   "outputs": [
    {
     "name": "stdout",
     "output_type": "stream",
     "text": [
      "0\n",
      "7\n"
     ]
    }
   ],
   "source": [
    "# to extract a element from list, we use index no. and in reverse order\n",
    "print(numbers[5])\n",
    "print(digits[-5])"
   ]
  },
  {
   "cell_type": "code",
   "execution_count": 11,
   "metadata": {},
   "outputs": [
    {
     "data": {
      "text/plain": [
       "['4', '2', 0, '5', '8', '9', '7', '5', '6', '1', '2']"
      ]
     },
     "execution_count": 11,
     "metadata": {},
     "output_type": "execute_result"
    }
   ],
   "source": [
    "# To insert a new list item, without replacing any of the existing values, we can use the insert() method.\n",
    "# The insert(position, value) method inserts an item at the specified index:\n",
    "digits.insert(2, 0)\n",
    "digits"
   ]
  },
  {
   "cell_type": "code",
   "execution_count": 12,
   "metadata": {},
   "outputs": [
    {
     "data": {
      "text/plain": [
       "['4', '2', '5', '100', '9', '0', '0', '0', '0']"
      ]
     },
     "execution_count": 12,
     "metadata": {},
     "output_type": "execute_result"
    }
   ],
   "source": [
    "# to replace a element with another element, we use index no.\n",
    "numbers[3] = '100' ## 4 is replaced with Thanos\n",
    "numbers"
   ]
  },
  {
   "cell_type": "code",
   "execution_count": 13,
   "metadata": {},
   "outputs": [
    {
     "data": {
      "text/plain": [
       "['4', '2', '5', '8', '9', '7', '5', '6', '1', '2']"
      ]
     },
     "execution_count": 13,
     "metadata": {},
     "output_type": "execute_result"
    }
   ],
   "source": [
    "# to delete any element from list\n",
    "del digits[2]   ## from l1 list 3 has been deleted\n",
    "digits\n"
   ]
  },
  {
   "cell_type": "code",
   "execution_count": 16,
   "metadata": {},
   "outputs": [
    {
     "data": {
      "text/plain": [
       "['4', '2', '5', '100', '9', '0', '0', '0', '0', '100', '101', '102', '103']"
      ]
     },
     "execution_count": 16,
     "metadata": {},
     "output_type": "execute_result"
    }
   ],
   "source": [
    "# to add anything to the list,  we use list_name.append()\n",
    "numbers.append('103')\n",
    "numbers"
   ]
  },
  {
   "cell_type": "code",
   "execution_count": 17,
   "metadata": {},
   "outputs": [
    {
     "data": {
      "text/plain": [
       "['4',\n",
       " '2',\n",
       " '5',\n",
       " '100',\n",
       " '9',\n",
       " '0',\n",
       " '0',\n",
       " '0',\n",
       " '0',\n",
       " '100',\n",
       " '101',\n",
       " '102',\n",
       " '103',\n",
       " '101',\n",
       " '102']"
      ]
     },
     "execution_count": 17,
     "metadata": {},
     "output_type": "execute_result"
    }
   ],
   "source": [
    "# to extend one or more to the list, we use list_name.extend([])\n",
    "''' we can extend list with another list: list_name_1.extend(list_name_2) print(list_name_1)'''\n",
    "numbers.extend(['101','102'])\n",
    "numbers"
   ]
  },
  {
   "cell_type": "markdown",
   "metadata": {},
   "source": [
    "        del list_name[] , list_name.append(), list_name.extend([]) are some built_in methods of list\n",
    "    WHEN WE CALL BUILT_IN METHODS, THEY ARE APPLIED AS LIST_NAME WITH '.' DOT OPERAND, WHERE AS BUILT_IN FUNCTIONS \n",
    "                    TAKES OBJECT(LIST_NMAE) AS AN ARGUMENT."
   ]
  },
  {
   "cell_type": "code",
   "execution_count": 19,
   "metadata": {},
   "outputs": [
    {
     "name": "stdout",
     "output_type": "stream",
     "text": [
      "in the MCU 5 is the powerful villian\n"
     ]
    }
   ],
   "source": [
    "# to show lists elements are directly treated as string.\n",
    "print('in the MCU ' + numbers[2] + ' is the powerful villian')"
   ]
  },
  {
   "cell_type": "code",
   "execution_count": 22,
   "metadata": {},
   "outputs": [
    {
     "name": "stdout",
     "output_type": "stream",
     "text": [
      "15\n",
      "10\n"
     ]
    }
   ],
   "source": [
    "# to find the lenght of the list\n",
    "print(len(numbers))\n",
    "print(len(digits))"
   ]
  },
  {
   "cell_type": "code",
   "execution_count": 23,
   "metadata": {},
   "outputs": [
    {
     "data": {
      "text/plain": [
       "10"
      ]
     },
     "execution_count": 23,
     "metadata": {},
     "output_type": "execute_result"
    }
   ],
   "source": [
    "# to obtain element's index with out knowing index\n",
    "numbers.index('101')"
   ]
  },
  {
   "cell_type": "code",
   "execution_count": 24,
   "metadata": {},
   "outputs": [
    {
     "name": "stdout",
     "output_type": "stream",
     "text": [
      "[['4', '2', '5', '100', '9', '0', '0', '0', '0', '100', '101', '102', '103', '101', '102'], ['4', '2', '5', '8', '9', '7', '5', '6', '1', '2']]\n"
     ]
    }
   ],
   "source": [
    "# creating a list with two lists.\n",
    "\n",
    "another_numbers = [numbers,digits]\n",
    "print(another_numbers)"
   ]
  },
  {
   "cell_type": "code",
   "execution_count": 25,
   "metadata": {},
   "outputs": [
    {
     "name": "stdout",
     "output_type": "stream",
     "text": [
      "[' ', ' ', ' ', ' ', ' ', ' ', ' ', ' ', 'T', 'a', 'b', 'c', 'd', 'e', 'e', 'e', 'f', 'g', 'h', 'h', 'i', 'j', 'k', 'l', 'm', 'n', 'o', 'o', 'o', 'o', 'p', 'q', 'r', 'r', 's', 't', 'u', 'u', 'v', 'w', 'x', 'y', 'z']\n",
      "The quick brown fox jumps over the lazy dog\n",
      "[' ', ' ', ' ', ' ', ' ', ' ', ' ', ' ', 'a', 'b', 'c', 'd', 'e', 'e', 'e', 'f', 'g', 'h', 'h', 'i', 'j', 'k', 'l', 'm', 'n', 'o', 'o', 'o', 'o', 'p', 'q', 'r', 'r', 's', 'T', 't', 'u', 'u', 'v', 'w', 'x', 'y', 'z']\n"
     ]
    }
   ],
   "source": [
    "## sorted() The sorted() function returns a sorted list of the specified iterable object.\n",
    "# sorted() returns a new list if we provide. check below example.if we give a string, it'll return each letter of string as list\n",
    "## Note: You cannot sort a list that contains BOTH string values AND numeric values.\n",
    "## Syntax: sorted(iterable, key=key, reverse=reverse)\n",
    "\n",
    "pangram = 'The quick brown fox jumps over the lazy dog' ## pangram is pharse whcih contain all alphabets.\n",
    "letter = sorted(pangram) ## letter/letters are new list\n",
    "print(letter)\n",
    "print(pangram)\n",
    "## as you can see 'T' appears first sorted() do's uppercase('T') to be first but not with it's alphabetical\n",
    "## to avoid that use \"case Insensitive sorting: Syntax: key = str.casefold\"\n",
    "\n",
    "letters = sorted(pangram, key = str.casefold)\n",
    "print(letters)"
   ]
  },
  {
   "cell_type": "code",
   "execution_count": 28,
   "metadata": {},
   "outputs": [
    {
     "data": {
      "text/plain": [
       "[['4', '2', '5', '8', '9', '7', '5', '6', '1', '2'],\n",
       " ['9',\n",
       "  '5',\n",
       "  '4',\n",
       "  '2',\n",
       "  '103',\n",
       "  '102',\n",
       "  '102',\n",
       "  '101',\n",
       "  '101',\n",
       "  '100',\n",
       "  '100',\n",
       "  '0',\n",
       "  '0',\n",
       "  '0',\n",
       "  '0']]"
      ]
     },
     "execution_count": 28,
     "metadata": {},
     "output_type": "execute_result"
    }
   ],
   "source": [
    "# to arrange list in order, we use sort.\n",
    "another_numbers.sort()\n",
    "another_numbers"
   ]
  },
  {
   "cell_type": "code",
   "execution_count": 29,
   "metadata": {},
   "outputs": [
    {
     "data": {
      "text/plain": [
       "[['9',\n",
       "  '5',\n",
       "  '4',\n",
       "  '2',\n",
       "  '103',\n",
       "  '102',\n",
       "  '102',\n",
       "  '101',\n",
       "  '101',\n",
       "  '100',\n",
       "  '100',\n",
       "  '0',\n",
       "  '0',\n",
       "  '0',\n",
       "  '0'],\n",
       " ['4', '2', '5', '8', '9', '7', '5', '6', '1', '2']]"
      ]
     },
     "execution_count": 29,
     "metadata": {},
     "output_type": "execute_result"
    }
   ],
   "source": [
    "# to arrange sorted list in reverse order, we use sort.\n",
    "another_numbers.sort(reverse=True)\n",
    "another_numbers"
   ]
  },
  {
   "cell_type": "code",
   "execution_count": 30,
   "metadata": {},
   "outputs": [],
   "source": [
    "# check list using if stmt\n",
    "digits\n",
    "if value in digits:\n",
    "    print(value)"
   ]
  },
  {
   "cell_type": "code",
   "execution_count": null,
   "metadata": {},
   "outputs": [],
   "source": [
    "if 'thanos' in l2:\n",
    "    print('day-off')\n",
    "else:\n",
    "    print('absent')"
   ]
  },
  {
   "cell_type": "code",
   "execution_count": null,
   "metadata": {},
   "outputs": [],
   "source": [
    "## concatenation and repeatation of lists.\n",
    "l= l1+l2\n",
    "l"
   ]
  },
  {
   "cell_type": "code",
   "execution_count": null,
   "metadata": {},
   "outputs": [],
   "source": [
    "# l*2"
   ]
  },
  {
   "cell_type": "code",
   "execution_count": null,
   "metadata": {},
   "outputs": [],
   "source": [
    "max(l1)"
   ]
  },
  {
   "cell_type": "code",
   "execution_count": null,
   "metadata": {},
   "outputs": [],
   "source": [
    "min(l1)"
   ]
  },
  {
   "cell_type": "code",
   "execution_count": 13,
   "metadata": {
    "scrolled": true
   },
   "outputs": [
    {
     "name": "stdout",
     "output_type": "stream",
     "text": [
      "['1', '2', '3', '4', '5', '6']\n",
      "Please add options from below the list: \n",
      "1 computer\n",
      "2 moniter\n",
      "3 keyboard\n",
      "4 mouse\n",
      "5 hdmi\n",
      "6 inverter\n",
      "1\n",
      "Please add options from below the list: \n",
      "1 computer\n",
      "2 moniter\n",
      "3 keyboard\n",
      "4 mouse\n",
      "5 hdmi\n",
      "6 inverter\n",
      "0\n",
      "[]\n"
     ]
    }
   ],
   "source": [
    "''' Creating a list of items: '''\n",
    "available_parts = ['computer',\n",
    "                  'moniter',\n",
    "                  'keyboard',\n",
    "                  'mouse',\n",
    "                  'hdmi',\n",
    "                  'inverter']\n",
    "'''creating an empty list and then add the valid_choice to it and agian creating empty\n",
    "list computer_parts which will '''\n",
    "## valid_choices = [str(i) for i in range(1, len(available_parts)+1)] is a comprehension method\n",
    "valid_choices = []\n",
    "for i in range(1, len(available_parts) + 1):\n",
    "    valid_choices.append(str(i))   ## str()functn used input from user will be str and output should also be str.\n",
    "print(valid_choices)\n",
    "current_choice = \"-\"\n",
    "computer_parts = []   ## creating an empty list\n",
    "\n",
    "while current_choice != \"0\":\n",
    "    if current_choice == '123456':\n",
    "        print('Adding {}'.format(current_choice))\n",
    "        if current_choice == '1':\n",
    "            computer_parts.append('computer')\n",
    "        elif current_choice == '2':\n",
    "            computer_parts.append('moniter')\n",
    "        elif current_choice == '3':\n",
    "            computer_parts,append('keyboard')\n",
    "        elif current_choice == '4':\n",
    "            computer_parts.append('mouse')\n",
    "        elif cuurent_choice == '5':\n",
    "            computer_parts.append('hdmi')\n",
    "        elif current_choice == '6':\n",
    "            computer_parts.append('inverter')\n",
    "    else:\n",
    "        print('Please add options from below the list: ')\n",
    "        for number, part in enumerate(available_parts):\n",
    "            print(number + 1, part)\n",
    "    current_choice = input()\n",
    "    \n",
    "print(computer_parts)"
   ]
  },
  {
   "cell_type": "code",
   "execution_count": 3,
   "metadata": {
    "collapsed": true
   },
   "outputs": [
    {
     "ename": "ValueError",
     "evalue": "dictionary update sequence element #0 has length 8; 2 is required",
     "output_type": "error",
     "traceback": [
      "\u001b[1;31m---------------------------------------------------------------------------\u001b[0m",
      "\u001b[1;31mValueError\u001b[0m                                Traceback (most recent call last)",
      "\u001b[1;32m<ipython-input-3-24c9824d4b77>\u001b[0m in \u001b[0;36m<module>\u001b[1;34m\u001b[0m\n\u001b[0;32m     11\u001b[0m \u001b[1;33m\u001b[0m\u001b[0m\n\u001b[0;32m     12\u001b[0m \u001b[0mavailable_part\u001b[0m \u001b[1;33m=\u001b[0m \u001b[0mtuple\u001b[0m\u001b[1;33m(\u001b[0m\u001b[0mavaile_parts\u001b[0m\u001b[1;33m)\u001b[0m\u001b[1;33m\u001b[0m\u001b[1;33m\u001b[0m\u001b[0m\n\u001b[1;32m---> 13\u001b[1;33m \u001b[0mavailable_parts\u001b[0m \u001b[1;33m=\u001b[0m \u001b[0mdict\u001b[0m\u001b[1;33m(\u001b[0m\u001b[0mavailable_part\u001b[0m\u001b[1;33m)\u001b[0m\u001b[1;33m\u001b[0m\u001b[1;33m\u001b[0m\u001b[0m\n\u001b[0m\u001b[0;32m     14\u001b[0m \u001b[1;33m\u001b[0m\u001b[0m\n\u001b[0;32m     15\u001b[0m '''creating an empty list and then add the valid_choice to it and agian creating empty\n",
      "\u001b[1;31mValueError\u001b[0m: dictionary update sequence element #0 has length 8; 2 is required"
     ]
    }
   ],
   "source": [
    "''' Creating a list of items and allowing user to chose the items in list: '''\n",
    "\n",
    "\"\"\"\"availe_parts = ['computer',\n",
    "                  'moniter',\n",
    "                  'keyboard',\n",
    "                  'mouse',\n",
    "                  'hdmi',\n",
    "                  'inverter',\n",
    "                  'dvd-drive'\n",
    "              ]\n",
    "\n",
    "available_part = tuple(availe_parts)\n",
    "available_parts = dict(available_part)\n",
    "\n",
    "'''creating an empty list and then add the valid_choice to it and agian creating empty\n",
    "list computer_parts which will contain the parts of customer want to buy and appending their items. '''\n",
    "\n",
    "current_choice = None\n",
    "computer_parts = []  # create an empty list\n",
    " \n",
    "while current_choice != \"0\":\n",
    "    if current_choice in available_parts:\n",
    "        chosen_part = available_parts[current_choice]\n",
    "        if chosen_part in computer_parts:\n",
    "            # it's already in, so remove it\n",
    "            print(f\"Removing {chosen_part}\")\n",
    "            computer_parts.remove(chosen_part)\n",
    "        else:\n",
    "            print(f\"Adding {chosen_part}\")\n",
    "            computer_parts.append(chosen_part)\n",
    "        print(f\"Your list now contains: {computer_parts}\")\n",
    "    else:\n",
    "        print(\"Please add options from the list:\")\n",
    "        for key, value in enumerate(available_parts):\n",
    "            print(f\"{key}: {value}\")\n",
    "        print(\"0: to finish\")\n",
    " \n",
    "    current_choice = input(\"> \")\n",
    "print('you\\'ve chosen parts', computer_parts)\"\"\""
   ]
  },
  {
   "cell_type": "code",
   "execution_count": null,
   "metadata": {},
   "outputs": [
    {
     "name": "stdout",
     "output_type": "stream",
     "text": [
      "['1', '2', '3', '4', '5', '6', '7']\n",
      "Please add options from the list below:\n",
      "1 computer\n",
      "2 moniter\n",
      "3 keyboard\n",
      "4 mouse\n",
      "5 hdmi\n",
      "6 inverter\n",
      "7 dvd-drive\n",
      "1\n",
      "adding 1\n",
      "2\n",
      "adding 2\n",
      "3\n",
      "adding 3\n"
     ]
    }
   ],
   "source": [
    "''' Creating a list of items: '''\n",
    "\n",
    "avail_parts = ['computer',\n",
    "                  'moniter',\n",
    "                  'keyboard',\n",
    "                  'mouse',\n",
    "                  'hdmi',\n",
    "                  'inverter',\n",
    "                  'dvd-drive'\n",
    "              ]\n",
    "'''creating an empty list and then add the valid_choice to it and agian creating empty\n",
    "list computer_parts which will contain the parts of customer want to buy and appending their items. '''\n",
    "\n",
    "#valid_choices = [str(i) for i in range(1, len(avail_part)+1)] # is comprehension method.\n",
    "valid_choices = []\n",
    "for i in range(1, len(avail_parts) + 1):\n",
    "    valid_choices.append(str(i))   ## str()functn used input from user will be str and output should also be str.\n",
    "print(valid_choices)\n",
    "current_choice = None ### / \"-\"\n",
    "computer_parts = []   ## creating an empty list\n",
    "\n",
    "while current_choice != \"0\":\n",
    "    if current_choice in valid_choices:\n",
    "        index = int(current_choice) - 1 ## is used bcoz index should starts from 1.\n",
    "        chosen_part = avail_part[index]\n",
    "        if current_choice in computer_parts:   ## using if stmt inside if stmt\n",
    "            print('Removing {}'.format(chosen_part))\n",
    "            #computer_parts.remove(current_choice)   ## using remove() functn to remove item from list\n",
    "            del computer_parts[current_choice]\n",
    "        else:\n",
    "            print('adding {}'.format(current_choice))\n",
    "            computer_parts.append(chosen_part)    ## usnig append() functn to add item to list.\n",
    "    else:\n",
    "        print('Please add options from the list below:')\n",
    "        for number, part in enumerate(avail_part): ## using enumerate() defining the index to items in list\n",
    "            print(number + 1, part)  ## number (+ 1) is used to start index from 1.\n",
    "            \n",
    "    current_choice = input()\n",
    "print('you\\'ve chosen parts', computer_parts)"
   ]
  },
  {
   "cell_type": "code",
   "execution_count": null,
   "metadata": {},
   "outputs": [],
   "source": [
    "'''we've data mixture of flowers and shrubs, customers wants to get flowers separate and shrubs separate'''\n",
    "### splitting of list into two lists.\n",
    "\n",
    "data = [\n",
    "    \"Andromeda - Shrub\",\n",
    "    \"Bellflower - Flower\",\n",
    "    \"China Pink - Flower\",\n",
    "    \"Daffodil - Flower\",\n",
    "    \"Evening Primrose - Flower\",\n",
    "    \"French Marigold - Flower\",\n",
    "    \"Hydrangea - Shrub\",\n",
    "    \"Iris - Flower\",\n",
    "    \"Japanese Camellia - Shrub\",\n",
    "    \"Lavender - Shrub\",\n",
    "    \"Lilac - Shrub\",\n",
    "    \"Magnolia - Shrub\",\n",
    "    \"Peony - Shrub\",\n",
    "    \"Queen Anne's Lace - Flower\",\n",
    "    \"Red Hot Poker - Flower\",\n",
    "    \"Snapdragon - Flower\",\n",
    "    \"Sunflower - Flower\",\n",
    "    \"Tiger Lily - Flower\",\n",
    "    \"Witch Hazel - Shrub\",\n",
    "]\n",
    "\n",
    "flowers = [] ## created empty lists flowers and shrubs\n",
    "shrubs = []\n",
    "\n",
    "for plant in data:   ## using for loop\n",
    "    if 'Flower' in plant:      ## check for the capital F/S \n",
    "        flowers.append(plant)   \n",
    "    elif 'Shrub' in plant:\n",
    "        shrubs.append(plant)\n",
    "        \n",
    "print(flowers)\n",
    "print(shrubs)"
   ]
  },
  {
   "cell_type": "code",
   "execution_count": null,
   "metadata": {},
   "outputs": [],
   "source": [
    "'''outliers: In a list of numbers to remove the low/high values of the range of numbers\n",
    "for numbers that are un sorted and this method is usefull for large data \n",
    "******iterate bacward over a sequence'''\n",
    "## 1st method\n",
    "outliers = [104,102,4,5,125,45,199,186,365,1000,145,155]\n",
    "# outliers =[] using this empty list we are testing the for loop and program.\n",
    "min_valid = 100\n",
    "max_valid = 200\n",
    "                                    ## -1,stop value,-1 backwards slcing starts.\n",
    "for index in range(len(outliers) -1,-1, -1): ## using 0 as stop value 1st item in the list won't be included that's why used -1\n",
    "    if outliers[index] < min_valid or outliers[index] > max_valid:\n",
    "        print(index, outliers)\n",
    "        del outliers[index]\n",
    "        \n",
    "print(outliers)"
   ]
  },
  {
   "cell_type": "code",
   "execution_count": null,
   "metadata": {},
   "outputs": [],
   "source": [
    "'''using reversed() funtion removing the outliers(iterate bacward over a sequence): '''\n",
    "## 2nd method\n",
    "outliers = [104,102,4,5,125,45,199,186,365,1000,145,155]\n",
    "# outliers =[] using this empty list we are testing the for loop and program.\n",
    "min_valid = 100\n",
    "max_valid = 200\n",
    "top_index = len(outliers)-1  ## uses to get index backward\n",
    "for index, value in enumerate(reversed(outliers)): ## reversed() to reverse the list. and more efficient way this method.\n",
    "    if value < min_valid or value > max_valid:\n",
    "        print(top_index-index, value)\n",
    "        del outliers[top_index-index]\n",
    "print(outliers)"
   ]
  },
  {
   "cell_type": "code",
   "execution_count": 4,
   "metadata": {},
   "outputs": [
    {
     "name": "stdout",
     "output_type": "stream",
     "text": [
      "[[2, 4, 5, 6, 8], [1, 3, 5, 7, 9]]\n",
      "[2, 4, 5, 6, 8]\n",
      "2\n",
      "4\n",
      "5\n",
      "6\n",
      "8\n",
      "[1, 3, 5, 7, 9]\n",
      "1\n",
      "3\n",
      "5\n",
      "7\n",
      "9\n"
     ]
    }
   ],
   "source": [
    "'''joinig two lists and iterating each list and their values: '''\n",
    "\n",
    "empty_list = []\n",
    "even = [2,4,5,6,8]\n",
    "odd = [1,3,5,7,9]\n",
    "\n",
    "join_number = [even, odd]\n",
    "print(join_number)\n",
    "\n",
    "for numbers in join_number:\n",
    "    print(numbers)\n",
    "    \n",
    "    for value in numbers:\n",
    "        print(value)"
   ]
  },
  {
   "cell_type": "code",
   "execution_count": 24,
   "metadata": {},
   "outputs": [
    {
     "name": "stdout",
     "output_type": "stream",
     "text": [
      "['egg', 'bacon']\n",
      "egg\n",
      "bacon\n",
      "['egg', 'bacon', 'sausage']\n",
      "egg\n",
      "bacon\n",
      "sausage\n",
      "['egg', 'spam'] spam count is 1:\n",
      "['egg', 'bacon', 'spam'] spam count is 1:\n",
      "['egg', 'bacon', 'spam', 'sausage'] spam count is 1:\n",
      "['spam', 'egg', 'spam', 'spam', 'bacon'] spam count is 3:\n",
      "['spam', 'spam', 'bacon', 'egg', 'spam', 'spam'] spam count is 4:\n",
      "['spam', 'spam', 'spam', 'egg', 'egg', 'bacon', 'spam'] spam count is 4:\n"
     ]
    }
   ],
   "source": [
    "'''nested lists: '''\n",
    "\n",
    "menu = [['egg','bacon'],\n",
    "       ['egg','bacon','sausage'],\n",
    "       ['egg','spam'],\n",
    "       ['egg','bacon','spam'],\n",
    "       ['egg','bacon','spam','sausage'],\n",
    "       ['spam','egg','spam','spam','bacon'],\n",
    "       ['spam','spam','bacon','egg','spam','spam'],\n",
    "       ['spam','spam','spam','egg','egg','bacon','spam'],\n",
    "       ]\n",
    "## to print menu where \"spam\" is not in menu\n",
    "# items in that menu(doesn't contain \"spam\") \n",
    " \n",
    "for meal in menu:  ## to print menu where \"spam\" is not in menu\n",
    "    if 'spam' not in meal:\n",
    "        print(meal)\n",
    "        \n",
    "        for item in meal:  ## to print items in list that doesn't contain \"spam\"\n",
    "            print(item)\n",
    "    else:  ### to count spam in each list which contains spam.using count()method\n",
    "        print('{0} spam count is {1}:'.format(meal, meal.count('spam')))"
   ]
  },
  {
   "cell_type": "code",
   "execution_count": 30,
   "metadata": {},
   "outputs": [
    {
     "name": "stdout",
     "output_type": "stream",
     "text": [
      "['egg', 'bacon']\n",
      "['egg', 'bacon', 'sausage']\n",
      "['egg']\n",
      "['egg', 'bacon']\n",
      "['egg', 'bacon', 'sausage']\n",
      "['egg', 'bacon']\n",
      "['bacon', 'egg']\n",
      "['egg', 'egg', 'bacon']\n",
      "this is other method:  egg, bacon\n",
      "this is other method:  egg, bacon, sausage\n",
      "this is other method:  egg\n",
      "this is other method:  egg, bacon\n",
      "this is other method:  egg, bacon, sausage\n",
      "this is other method:  egg, bacon\n",
      "this is other method:  bacon, egg\n",
      "this is other method:  egg, egg, bacon\n"
     ]
    }
   ],
   "source": [
    "''' Remove spam from the below lists: '''\n",
    "\n",
    "menu = [['egg','bacon'],\n",
    "       ['egg','bacon','sausage'],\n",
    "       ['egg','spam'],\n",
    "       ['egg','bacon','spam'],\n",
    "       ['egg','bacon','spam','sausage'],\n",
    "       ['spam','egg','spam','spam','bacon'],\n",
    "       ['spam','spam','bacon','egg','spam','spam'],\n",
    "       ['spam','spam','spam','egg','egg','bacon','spam'],\n",
    "       ]\n",
    "for meal in menu:\n",
    "    for index in range(len(meal) -1,-1,-1): ## removing items from list, we've to work with backward slicing using for loop\n",
    "        if meal[index] == 'spam':\n",
    "            del meal[index]\n",
    "    print(meal)\n",
    "\n",
    "'''other way to remove with less code:'''\n",
    "\n",
    "# for meal in menu:\n",
    "#  for item in meal:\n",
    "#   if item != 'spam':\n",
    "#    print(item, end = ', ') end is useful in loops to print without the space b/w gaps.\n",
    "#  print() this empty print() gives blank line\n",
    "\n",
    "'''using generators:'''\n",
    "\n",
    "for meal in menu:\n",
    "    items = ', '.join((item for item in meal if item != 'spam'))\n",
    "    print(\"this is other method: \", items)"
   ]
  },
  {
   "cell_type": "code",
   "execution_count": 27,
   "metadata": {},
   "outputs": [
    {
     "name": "stdout",
     "output_type": "stream",
     "text": [
      "srinath 27 good 2021 (4+2j)\n",
      "srinath, 27, good, 2021, (4+2j)\n"
     ]
    }
   ],
   "source": [
    "'''using print() for more things to print: '''\n",
    "## here using two variables, string, int, cmplx printing altogether.\n",
    "\n",
    "name ='srinath'\n",
    "age = 27\n",
    "cmplx = 2j + 4\n",
    "\n",
    "print(name, age, 'good', 2021, cmplx)\n",
    "print(name, age, 'good', 2021, cmplx, sep=', ')"
   ]
  },
  {
   "cell_type": "code",
   "execution_count": 36,
   "metadata": {},
   "outputs": [
    {
     "name": "stdout",
     "output_type": "stream",
     "text": [
      "[9, 311, 745, 377, 852]\n",
      "[9, 311, 745, 377, 852]\n"
     ]
    }
   ],
   "source": [
    "\"\"\" creating a new list from str to int: means replcaing str with int\"\"\"\n",
    "## 1 method:\n",
    "values_list = ['9','311','745','377','852']\n",
    "\n",
    "for index in range(len(values_list)):\n",
    "    values_list[index] = int(values_list[index])\n",
    "    \n",
    "print(values_list)\n",
    "\n",
    "## 2 method:\n",
    "\n",
    "int_values = []\n",
    "for value in values_list: ## we're getting each item from list(values_list)\n",
    "    int_values.append(int(value))  ## converting into int 'int(value)' and appending it to new list(int_values)\n",
    "    \n",
    "print(int_values)"
   ]
  },
  {
   "cell_type": "code",
   "execution_count": 54,
   "metadata": {},
   "outputs": [
    {
     "name": "stdout",
     "output_type": "stream",
     "text": [
      "rose\n",
      "lily\n",
      "sunflower\n",
      "jasmine\n",
      "lotus\n",
      "orchids\n",
      "rose| lily| sunflower| jasmine| lotus| orchids\n",
      "['The', 'quick', 'brown', 'fox', 'jumps', 'over', 'the', 'lazy', 'dog']\n"
     ]
    }
   ],
   "source": [
    "'''join & split'''\n",
    "## join() method used to iterate a list of strings instead of for loops.\n",
    "\n",
    "flowers = ['rose','lily','sunflower','jasmine','lotus','orchids']\n",
    "\n",
    "for flower in flowers:\n",
    "    print(flower)\n",
    "    \n",
    "flower = '| '.join(flowers) ## here we use \"separator = ' | '. join() to iterate\"\n",
    "print(flower)\n",
    "\n",
    "## split() return a string of words, splits out into words.splits over the (whitespaces,\\t,\"\"\"str_lines\"\"\")\n",
    "\n",
    "pangram = 'The quick brown fox jumps over the lazy dog'\n",
    "splitting = pangram.split()  ## we can use separators\n",
    "print(splitting)"
   ]
  },
  {
   "cell_type": "code",
   "execution_count": 64,
   "metadata": {},
   "outputs": [
    {
     "name": "stdout",
     "output_type": "stream",
     "text": [
      "Please enter three numbers: 4,8,3\n",
      "9\n"
     ]
    }
   ],
   "source": [
    "# Take input from the user\n",
    "user_input = input(\"Please enter three numbers: \")\n",
    "\n",
    "# Split the given input string into 3 parts\n",
    "string_tokens = user_input.split(\",\")\n",
    "\n",
    "# Convert the tokens into integers\n",
    "int_tokens = []\n",
    "for st in string_tokens:\n",
    "    int_tokens.append(int(st))\n",
    "\n",
    "# Calculate the result: a + b - c\n",
    "a, b, c = int_tokens\n",
    "result = a + b - c\n",
    "result = int_tokens[0] + int_tokens[1] - int_tokens[2]\n",
    "\n",
    "# Output the result\n",
    "print(result)"
   ]
  },
  {
   "cell_type": "code",
   "execution_count": null,
   "metadata": {},
   "outputs": [],
   "source": []
  }
 ],
 "metadata": {
  "kernelspec": {
   "display_name": "Python 3",
   "language": "python",
   "name": "python3"
  },
  "language_info": {
   "codemirror_mode": {
    "name": "ipython",
    "version": 3
   },
   "file_extension": ".py",
   "mimetype": "text/x-python",
   "name": "python",
   "nbconvert_exporter": "python",
   "pygments_lexer": "ipython3",
   "version": "3.8.5"
  }
 },
 "nbformat": 4,
 "nbformat_minor": 4
}
