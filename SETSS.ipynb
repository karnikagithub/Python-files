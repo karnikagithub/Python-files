{
 "cells": [
  {
   "cell_type": "code",
   "execution_count": 3,
   "metadata": {},
   "outputs": [
    {
     "name": "stdout",
     "output_type": "stream",
     "text": [
      "<class 'set'>\n",
      "{'hen', 'sheep', 'goat', 'horse', 'cow'}\n",
      "hen\n",
      "sheep\n",
      "goat\n",
      "horse\n",
      "cow\n"
     ]
    }
   ],
   "source": [
    "farm_animals = {'cow','sheep','hen','goat','horse'}\n",
    "print(type(farm_animals))\n",
    "print(farm_animals) ## they're un-ordered.\n",
    "\n",
    "for animal in farm_animals:\n",
    "    print(animal)"
   ]
  },
  {
   "cell_type": "code",
   "execution_count": 1,
   "metadata": {
    "collapsed": true
   },
   "outputs": [
    {
     "name": "stdout",
     "output_type": "stream",
     "text": [
      "Please choose your option from the list below:\n",
      "1:\tLearn Python\n",
      "2:\tLearn Java\n",
      "3:\tGo swimming\n",
      "4:\tHave dinner\n",
      "5:\tGo to bed\n",
      "0:\tExit\n",
      "1\n",
      "You chose 1\n",
      "123\n",
      "Please choose your option from the list below:\n",
      "1:\tLearn Python\n",
      "2:\tLearn Java\n",
      "3:\tGo swimming\n",
      "4:\tHave dinner\n",
      "5:\tGo to bed\n",
      "0:\tExit\n",
      "0\n"
     ]
    }
   ],
   "source": [
    "choice = \"-\"  # initialise choice to something invalid\n",
    "while choice != \"0\":\n",
    "    if choice in set('12345'):\n",
    "    #if choice un list('12345'): we've fixed a bug in this code, bcoz \n",
    "    #if choice in {'1','2','3','4','5'}:\n",
    "    #if choice in \"12345\": it is string and code executes \"123\"\n",
    "        print(\"You chose {}\".format(choice))\n",
    "    else:\n",
    "        print(\"Please choose your option from the list below:\")\n",
    "        print(\"1:\\tLearn Python\")\n",
    "        print(\"2:\\tLearn Java\")\n",
    "        print(\"3:\\tGo swimming\")\n",
    "        print(\"4:\\tHave dinner\")\n",
    "        print(\"5:\\tGo to bed\")\n",
    "        print(\"0:\\tExit\")\n",
    "\n",
    "    choice = input()"
   ]
  },
  {
   "cell_type": "code",
   "execution_count": 3,
   "metadata": {},
   "outputs": [
    {
     "name": "stdout",
     "output_type": "stream",
     "text": [
      "Please enter your next number: 1\n",
      "Please enter your next number: 2\n",
      "Please enter your next number: 3\n",
      "Please enter your next number: 3\n",
      "Please enter your next number: 4\n",
      "{1, 2, 3, 4}\n"
     ]
    }
   ],
   "source": [
    "\"\"\" creating a empty SET and adding numbers to it & doesn't allow duplicates.: \"\"\"\n",
    "# numbers = {*\"\"}\n",
    "# numbers = {*{}}\n",
    "\n",
    "numbers = set()\n",
    "\n",
    "while len(numbers) < 4:  ## create a set if length of numbers are 4 \n",
    "    next_value =  int(input(\"Please enter your next number: \")) ## taking numbers from user.\n",
    "    numbers.add(next_value) ## we used .add() to append numbers to set\n",
    "print(numbers)"
   ]
  },
  {
   "cell_type": "code",
   "execution_count": 7,
   "metadata": {},
   "outputs": [
    {
     "name": "stdout",
     "output_type": "stream",
     "text": [
      "{'blue', 'grey', 'green', 'white', 'red'}\n",
      "\n",
      "['blue', 'green', 'grey', 'red', 'white']\n",
      "\n",
      "['blue', 'red', 'green', 'white', 'grey']\n",
      "\n",
      "{'blue': None, 'red': None, 'green': None, 'white': None, 'grey': None}\n"
     ]
    }
   ],
   "source": [
    "\"\"\" Creating a set from list, and remove duplicates:\"\"\"\n",
    "\n",
    "data = ['blue','red','green','red','blue','white','grey'] ## created a list\n",
    "\n",
    "## creating a set from list:\n",
    "\n",
    "unique_data = set(data) ## created a set with un-ordered \n",
    "print(unique_data)\n",
    "print()\n",
    "\n",
    "## create a set from list and to remove duplicates :\n",
    "unique_data = sorted(set(data))  ## to sort the order alphabetical.\n",
    "print(unique_data)\n",
    "print()\n",
    "\n",
    "## created a set using dict.fromkeys() to get order of the values inside set\n",
    "## create a list of unique colors, that as appeared first.\n",
    "unique_data = list(dict.fromkeys(data)) \n",
    "print(unique_data)\n",
    "print()\n",
    "print(dict.fromkeys(data)) \"\"\" Refer: using a set to remove duplicates:\"\"\""
   ]
  },
  {
   "cell_type": "code",
   "execution_count": 18,
   "metadata": {},
   "outputs": [
    {
     "name": "stdout",
     "output_type": "stream",
     "text": [
      "{0, 1, 2, 3, 4, 5, 6, 7, 8, 9, 10, 11, 12, 13, 14, 15, 16, 17, 18, 19, 20}\n",
      "\n",
      "{0, 1, 2, 3, 4, 5, 6, 7, 8, 9, 12, 13, 14, 15, 16, 17, 18, 19, 20}\n",
      "\n",
      "{0, 1, 2, 3, 4, 5, 6, 7, 8, 9, 12, 13, 14, 15, 16, 17, 18, 19, 20}\n"
     ]
    }
   ],
   "source": [
    "\"\"\" Deleting items from a set, there are three methods to do.\"\"\"\n",
    "\n",
    "small_ints = set(range(21))\n",
    "print(small_ints)\n",
    "\n",
    "## clear()method clears the set and gives empty set:\n",
    "#small_ints.clear()\n",
    "#print(small_ints)\n",
    "\n",
    "## remove()/discard() method to remove items from set.\n",
    "\n",
    "\"\"\"Discard()\"\"\"\n",
    "\n",
    "small_ints.discard(10)\n",
    "print()\n",
    "small_ints.remove(11)\n",
    "print(small_ints)\n",
    "print()\n",
    "\n",
    "small_ints.discard(99) ## discard prints out the set even if the value doesn't present in the set.\n",
    "#small_ints.remove(99) ## remove raises exception if the value is not present in the set.\n",
    "print(small_ints)"
   ]
  },
  {
   "cell_type": "code",
   "execution_count": 2,
   "metadata": {},
   "outputs": [],
   "source": [
    "# drugs\n",
    "amlodipine = (\"amlodipine\", \"Blood pressure\")\n",
    "buspirone = (\"buspirone\", \"Anxiety disorders\")\n",
    "carbimazole = (\"carbimazole\", \"Antithyroid agent\")\n",
    "citalopram = (\"citalopram\", \"Antidepressant\")\n",
    "edoxaban = (\"edoxaban\", \"anti-coagulant\")\n",
    "erythromycin = (\"erythromycin\", \"Antibiotic\")\n",
    "lusinopril = (\"lusinopril\", \"High blood pressure\")\n",
    "metformin = (\"metformin\", \"Type 2 diabetes\")\n",
    "methotrexate = (\"methotrexate\", \"Rheumatoid arthritis\")\n",
    "paracetamol = (\"paracetamol\", \"Painkiller\")\n",
    "propranol = (\"propranol\", \"Beta blocker\")\n",
    "simvastatin = (\"simvastatin\", \"High cholesterol\")\n",
    "warfarin = (\"warfarin\", \"anti-coagulant\")\n",
    "\n",
    "# Drugs that shouldn't be taken together\n",
    "adverse_interactions = [\n",
    "    {metformin, amlodipine},\n",
    "    {simvastatin, erythromycin},\n",
    "    {citalopram, buspirone},\n",
    "    {warfarin, citalopram},\n",
    "    {warfarin, edoxaban},\n",
    "    {warfarin, erythromycin},\n",
    "    {warfarin, amlodipine},\n",
    "]\n",
    "\n",
    "# Patient prescriptions\n",
    "patients = {\n",
    "    \"Anne\": {methotrexate, paracetamol},\n",
    "    \"Bob\": {carbimazole, erythromycin, methotrexate, paracetamol},\n",
    "    \"Charley\": {buspirone, lusinopril, metformin},\n",
    "    \"Denise\": {amlodipine, lusinopril, metformin, warfarin},\n",
    "    \"Eddie\": {amlodipine, propranol, simvastatin, warfarin},\n",
    "    \"Frank\": {buspirone, citalopram, propranol, warfarin},\n",
    "    \"Georgia\": {carbimazole, edoxaban, warfarin},\n",
    "    \"Helmut\": {erythromycin, paracetamol, propranol, simvastatin},\n",
    "    \"Izabella\": {amlodipine, citalopram, simvastatin, warfarin},\n",
    "    \"John\": {simvastatin},\n",
    "    \"Kenny\": {amlodipine, citalopram, metformin},\n",
    "}"
   ]
  },
  {
   "cell_type": "code",
   "execution_count": 43,
   "metadata": {
    "scrolled": false
   },
   "outputs": [
    {
     "name": "stdout",
     "output_type": "stream",
     "text": [
      "Please choose your mode of travel: \n",
      "1 : car\n",
      "2 : plane\n",
      "> 2\n",
      "you have to pack\n",
      "can opener\n",
      "jumper\n",
      "matches\n",
      "mug\n",
      "razor\n",
      "shaving cream\n",
      "shirts (3)\n",
      "shorts\n",
      "sleeping bag(s)\n",
      "soap\n",
      "socks (3 pairs)\n",
      "stove\n",
      "tent\n",
      "toothbrush\n",
      "toothpaste\n",
      "towel\n",
      "underwear (3 pairs)\n",
      "water carrier\n"
     ]
    }
   ],
   "source": [
    "\"\"\" Using 'discard()'method: \"\"\"\n",
    "\n",
    "travel_mode = {\"1\": \"car\", \"2\": \"plane\"} ## created a dict of 2 key:value pairs\n",
    "\n",
    "items = {\n",
    "    \"can opener\",  ### created a set of items to pack\n",
    "    \"fuel\",\n",
    "    \"jumper\",\n",
    "    \"knife\",\n",
    "    \"matches\",\n",
    "    \"razor blades\",\n",
    "    \"razor\",\n",
    "    \"scissors\",\n",
    "    \"shampoo\",\n",
    "    \"shaving cream\",\n",
    "    \"shirts (3)\",\n",
    "    \"shorts\",\n",
    "    \"sleeping bag(s)\",\n",
    "    \"soap\",\n",
    "    \"socks (3 pairs)\",\n",
    "    \"stove\",\n",
    "    \"tent\",\n",
    "    \"mug\",\n",
    "    \"toothbrush\",\n",
    "    \"toothpaste\",\n",
    "    \"towel\",\n",
    "    \"underwear (3 pairs)\",\n",
    "    \"water carrier\",\n",
    "}\n",
    "\n",
    "restricted_items = { ### created a another set of items to restrict.\n",
    "    \"catapult\",\n",
    "    \"fuel\",\n",
    "    \"gun\",\n",
    "    \"knife\",\n",
    "    \"razor blades\",\n",
    "    \"scissors\",\n",
    "    \"shampoo\",\n",
    "}\n",
    "\n",
    "print(\"Please choose your mode of travel: \")\n",
    "for key, value in travel_mode.items():  ## to print the key:value of dict\n",
    "    print(f'{key} : {value}')\n",
    "    \n",
    "mode = \"-\"    ## creating a user input\n",
    "while mode not in travel_mode:   ## loop goes True aslong as mode in travel_mode.\n",
    "    mode = input(\"> \")\n",
    "    \n",
    "if mode == \"2\":   ## to discard the item from items-gone even it doesn't exists.\n",
    "    #for restricted_item in restricted_items:\n",
    "        ## remove() gives error here, as said removes throws error as it doesn't find item in set.\n",
    "        #items.remove(restricted_items)\n",
    "        #items.discard(restricted_item) ## using discard to remove the restricted_items\n",
    "        items.difference_update(restricted_items) #  by using difference_update()we've written code in single line instead of \n",
    "        #using for loop and all.\n",
    "        #items -= restricted_items is set_difference_update operator.\n",
    "\n",
    "print('you have to pack')\n",
    "for item in sorted(items):   ## iterating over items and check for option 1 & 2 o/p changes.\n",
    "    print(item)"
   ]
  },
  {
   "cell_type": "code",
   "execution_count": 5,
   "metadata": {
    "collapsed": true
   },
   "outputs": [
    {
     "name": "stdout",
     "output_type": "stream",
     "text": [
      "Denise {('metformin', 'Type 2 diabetes'), ('lusinopril', 'High blood pressure'), ('edoxaban', 'anti-coagulant'), ('amlodipine', 'Blood pressure')}\n",
      "Eddie {('propranol', 'Beta blocker'), ('simvastatin', 'High cholesterol'), ('edoxaban', 'anti-coagulant'), ('amlodipine', 'Blood pressure')}\n",
      "Frank {('propranol', 'Beta blocker'), ('buspirone', 'Anxiety disorders'), ('citalopram', 'Antidepressant'), ('edoxaban', 'anti-coagulant')}\n",
      "Georgia {('carbimazole', 'Antithyroid agent'), ('edoxaban', 'anti-coagulant')}\n",
      "\n",
      "Patient Kenny is not taking warfarin.Please remove Kenny from the trail.\n",
      "Kenny {('amlodipine', 'Blood pressure'), ('metformin', 'Type 2 diabetes'), ('citalopram', 'Antidepressant')}\n"
     ]
    }
   ],
   "source": [
    "trail_patient = ['Denise','Eddie','Frank','Georgia','Kenny']\n",
    "\n",
    "## remove WARFARIN and ADD EDOXABAN.\n",
    "\"\"\" Using discard/remove check the output\"\"\"\n",
    "## As error raises when using remove() method to avoid that.\n",
    "# USING TRY & ERROR METHOD WE SILENTED THE ERROR AND PRINTED THE ERROR AS O/P TO LET KENNY AND SAVED KENNY.\"\"\"\n",
    "\n",
    "for patient in trail_patient:\n",
    "    prescription = patients[patient]\n",
    "    try:\n",
    "        prescription.remove(warfarin)\n",
    "        prescription.add(edoxaban)\n",
    "    except KeyError:\n",
    "        print()\n",
    "        print(f'Patient {patient} is not taking warfarin.'\n",
    "             f'Please remove {patient} from the trail.')\n",
    "    print(patient, prescription)\n",
    "# *****************************************************************************************#\n",
    "\n",
    "    #prescription = patients[patient]\n",
    "    #if warfarin in prescription: ## IF-BLOCK FOR THIS DATA WORKS SLOW INSTEAD TRY&ERROR IS ACCURABLE.\n",
    "    #prescription.remove(warfarin) ## remove() gives error as kenny's prescription donot contain warfarin.\n",
    "    #prescription.discard(warfarin) ## discard will add the edoxaban to all, where kenny is not taking warfarin\n",
    "    #prescription.add(edoxaban)\n",
    "    #print(patient, prescription)  ### THERE ARE TWO METHODS SIN THIS CODE BLOCK (I)-IF BLOCK,OTHER WITH OUT IF-BLOCK.\n",
    "    #else:\n",
    "     #   print(f'Patient {patient} is not taking warfarin.'\n",
    "      #       f'Please remove{patient} from the trail')\n",
    "    \n",
    "## As error raises when using remove() method to avoid that.\n",
    "# USING TRY & ERROR METHOD WE SILENTED THE ERROR AND PRINTED THE ERROR AS O/P TO LET KENNY AND SAVED KENNY.\"\"\""
   ]
  },
  {
   "cell_type": "code",
   "execution_count": 4,
   "metadata": {},
   "outputs": [
    {
     "name": "stdout",
     "output_type": "stream",
     "text": [
      "Frank\n",
      "{('citalopram', 'Antidepressant'), ('buspirone', 'Anxiety disorders'), ('warfarin', 'anti-coagulant'), ('propranol', 'Beta blocker')}\n",
      "Denise\n",
      "{('lusinopril', 'High blood pressure'), ('metformin', 'Type 2 diabetes'), ('amlodipine', 'Blood pressure'), ('warfarin', 'anti-coagulant')}\n",
      "Kenny\n",
      "{('citalopram', 'Antidepressant'), ('metformin', 'Type 2 diabetes'), ('amlodipine', 'Blood pressure')}\n",
      "Eddie\n",
      "{('propranol', 'Beta blocker'), ('simvastatin', 'High cholesterol'), ('warfarin', 'anti-coagulant'), ('amlodipine', 'Blood pressure')}\n",
      "Georgia\n",
      "{('carbimazole', 'Antithyroid agent'), ('edoxaban', 'anti-coagulant'), ('warfarin', 'anti-coagulant')}\n"
     ]
    }
   ],
   "source": [
    "\"\"\" Using pop()method to to print the patient and prescription/.\n",
    "\n",
    "trail_patients = {'Denise','Eddie','Frank','Georgia','Kenny'}\n",
    "\n",
    "The pop() method removes a random item from the set. This method returns the removed item.\"\"\"\n",
    "\n",
    "## this code ensure that we don't produce prescription for same patient again.\n",
    "\n",
    "trail_patients = {'Denise','Eddie','Frank','Georgia','Kenny'}\n",
    "\n",
    "while trail_patients: ## looping untill the set isn't empty.\n",
    "    patient = trail_patients.pop()\n",
    "    print(patient) ## removed patient\n",
    "    ## to print prescription of the patients\n",
    "    prescription = patients[patient]\n",
    "    print(prescription)"
   ]
  },
  {
   "cell_type": "code",
   "execution_count": 6,
   "metadata": {},
   "outputs": [
    {
     "name": "stdout",
     "output_type": "stream",
     "text": [
      "{'lion', 'peacock', 'snake', 'hen', 'panther', 'giraffe', 'goat', 'elephant', 'horse', 'tiger'}\n",
      "{'lion', 'snake', 'peacock', 'hen', 'panther', 'giraffe', 'goat', 'elephant', 'horse', 'tiger'}\n"
     ]
    }
   ],
   "source": [
    "\"\"\"Set operators: union, intersection, symmetric_diff, diff: \"\"\"\n",
    "\n",
    "farm_animals = {'hen','goat','horse','peacock','giraffe'}\n",
    "wild_animals = {'tiger','lion','elephant','panther','snake','horse','goat'}\n",
    "\n",
    "all_animals_1 = farm_animals.union(wild_animals)\n",
    "print(all_animals_1)\n",
    "## other way of union using '|' pipe character.\n",
    "all_animals_2 = wild_animals | farm_animals\n",
    "print(all_animals_2)"
   ]
  },
  {
   "cell_type": "code",
   "execution_count": 7,
   "metadata": {},
   "outputs": [
    {
     "name": "stdout",
     "output_type": "stream",
     "text": [
      "items as list:  [('amlodipine', 'Blood pressure'), ('buspirone', 'Anxiety disorders'), ('citalopram', 'Antidepressant'), ('edoxaban', 'anti-coagulant'), ('erythromycin', 'Antibiotic'), ('metformin', 'Type 2 diabetes'), ('simvastatin', 'High cholesterol'), ('warfarin', 'anti-coagulant')]\n",
      "\n",
      "items as set on new line: \n",
      "('amlodipine', 'Blood pressure')\n",
      "('buspirone', 'Anxiety disorders')\n",
      "('citalopram', 'Antidepressant')\n",
      "('edoxaban', 'anti-coagulant')\n",
      "('erythromycin', 'Antibiotic')\n",
      "('metformin', 'Type 2 diabetes')\n",
      "('simvastatin', 'High cholesterol')\n",
      "('warfarin', 'anti-coagulant')\n"
     ]
    }
   ],
   "source": [
    "## producing alphabetical order from the list adverse_interactions:\n",
    "# (i)- using iteration \n",
    "\n",
    "med_to_watch = set() ## creating a empty set \n",
    "#for interaction in adverse_interactions:\n",
    "    #med_to_watch = med_to_watch.union(interaction) union of adverse_interaction with med_to_watch using iteration\n",
    "    #med_to_watch = med_to_watch | interaction, these union operator creates a new set everytime the loop runs.\n",
    "    ## to create a  new set use this above union methods.\n",
    "    #med_to_watch.update(interaction) # update() donot create a new set instead updates the existing set. \n",
    "    #med_to_watch |= interaction is the update operator\n",
    "    \n",
    "#(ii)- using one line of code.\n",
    "\n",
    "med_to_watch.update(*adverse_interactions)\n",
    "print('items as list: ',sorted(med_to_watch)) ## sorted to alphabetical order \n",
    "\n",
    "## to print each item on newline, we've un-packed the items of list and passed as seperate argument to print functn.\n",
    "print()\n",
    "print('items as set on new line: ',*sorted(med_to_watch), sep = '\\n')"
   ]
  },
  {
   "cell_type": "code",
   "execution_count": 27,
   "metadata": {},
   "outputs": [
    {
     "name": "stdout",
     "output_type": "stream",
     "text": [
      "{0, 2, 4, 6, 8, 10, 12, 14, 16, 18, 20, 22, 24, 26, 28, 30, 32, 34, 36, 38, 40, 42, 44, 46, 48}\n",
      "{1, 3, 5, 7, 9, 11, 13, 15, 17, 19, 21, 23, 25, 27, 29, 31, 33, 35, 37, 39, 41, 43, 45, 47, 49}\n",
      "\n",
      "squares_generator {64, 1, 4, 36, 9, 16, 49, 81, 25}\n",
      "\n",
      "primes_generator {2, 3, 5, 7, 11, 13, 17, 19, 23, 29, 31, 37, 41, 43, 47, 53, 59, 61, 67, 71, 73, 79, 83, 89, 97}\n",
      "\n",
      "{1, 49, 9, 25}\n",
      "\n",
      "{16, 4, 36}\n",
      "{16, 4, 36}\n",
      "{1, 33, 35, 39, 9, 45, 15, 49, 21, 25, 27}\n",
      "{1, 33, 35, 39, 9, 45, 15, 49, 21, 25, 27}\n",
      "{97, 2, 67, 71, 73, 79, 83, 53, 89, 59, 61}\n"
     ]
    }
   ],
   "source": [
    "\"\"\" Uisng range functn to create sets\"\"\"\n",
    "\n",
    "evens = set(range(0,50,2))\n",
    "odds = set(range(1,50,2))\n",
    "\n",
    "print(evens)\n",
    "print(odds)\n",
    "\n",
    "from typing import Generator\n",
    "\n",
    "\n",
    "def squares_generator(n: int) -> Generator[int, None, None]:\n",
    "    \"\"\"Generator to return the perfect squares less than `n`.\"\"\"\n",
    "    if n > 0:\n",
    "        i = next_square = 1\n",
    "        while next_square < n:\n",
    "            yield next_square\n",
    "            i += 1\n",
    "            next_square = i * i\n",
    "\n",
    "\n",
    "def primes_generator(n: int) -> Generator[int, None, None]:\n",
    "    \"\"\"\n",
    "    Very naive implementation of the Sieve of Eratosthenes to generate prime numbers.\n",
    "\n",
    "    This is *not* suitable for production use.\n",
    "    For an optimised algorithm, check out the work by Tim Peters et al @ActiveState, and Will Ness.\n",
    "    https://stackoverflow.com/questions/2211990/how-to-implement-an-efficient-infinite-generator\n",
    "    -of-prime-numbers-in-python/19391111#19391111\n",
    "\n",
    "    :param n: The number to generate primes up to.\n",
    "    :return: A generator of all positive prime numbers less than or equal to `n`.\n",
    "    \"\"\"\n",
    "    if n >= 2:\n",
    "        # start with the set of positive odd integers from 3 to `n`, inclusive.\n",
    "        integers = set(range(3, n + 1, 2))\n",
    "        # There's no point removing multiples of 2 from odd numbers.\n",
    "        yield 2\n",
    "        next_prime = 3\n",
    "        while integers:\n",
    "            yield next_prime\n",
    "            # Remove all multiples of `next_prime`.\n",
    "            integers.difference_update(range(next_prime, n + 1, 2 * next_prime))\n",
    "            next_prime = min(integers, default=None)  # None if set is empty.\n",
    "\n",
    "print()           \n",
    "squares = set(squares_generator(100))\n",
    "print('squares_generator',squares)\n",
    "print()\n",
    "primes = set(primes_generator(100))\n",
    "print('primes_generator',primes)\n",
    "print()\n",
    "print(odds.intersection(squares_generator(50)))\n",
    "print()\n",
    "print(evens.intersection(squares))\n",
    "\n",
    "# pass an iterable to the method\n",
    "\n",
    "even_squares = evens.intersection(squares_generator(100))\n",
    "print(even_squares)\n",
    "\n",
    "## using of set_difference\n",
    " ## if we want set of odd numbers that aren't prime.:\n",
    "print(odds.difference(primes))\n",
    "\n",
    "## using set_difference method:\n",
    "print(odds - primes)\n",
    "\n",
    "## just like numerical subtraction, set_diff is non-commutative. if we perform the above operation\n",
    "## we get different o/p.\n",
    "print(primes - odds)"
   ]
  },
  {
   "cell_type": "code",
   "execution_count": 21,
   "metadata": {},
   "outputs": [
    {
     "name": "stdout",
     "output_type": "stream",
     "text": [
      "{'Charley', 'Georgia'}\n"
     ]
    }
   ],
   "source": [
    "## practical use of set intersection.\n",
    "\n",
    "trail_1 = {\"Bob\",\"Charley\",'Georgia','John'}\n",
    "trail_2 = {\"Anne\",'Charley','Eddie','Georgia'}\n",
    "\n",
    "check_set = trail_1.intersection(trail_2)\n",
    "print(check_set)"
   ]
  },
  {
   "cell_type": "code",
   "execution_count": 22,
   "metadata": {},
   "outputs": [
    {
     "name": "stdout",
     "output_type": "stream",
     "text": [
      "{'horse'}\n",
      "{'horse'}\n"
     ]
    }
   ],
   "source": [
    "farm_animals = {'sheep','hen','horse','goat','rabit'}\n",
    "wild_animals = {'tiger','lion','panther','elephant','horse','goat'}\n",
    "potential_rides = {'donkey','horse','camel'}\n",
    "\n",
    "## using intersection operator.\n",
    "\n",
    "rides = farm_animals & wild_animals & potential_rides\n",
    "print(rides)\n",
    "\n",
    "## using intersection method.\n",
    "\n",
    "mounts = farm_animals.intersection(wild_animals, potential_rides) \n",
    "print(mounts)"
   ]
  },
  {
   "cell_type": "code",
   "execution_count": 24,
   "metadata": {},
   "outputs": [
    {
     "name": "stdout",
     "output_type": "stream",
     "text": [
      "['Education', 'is', 'not', 'the', 'learning', 'of', 'facts', 'but', 'the', 'training', 'of', 'the', 'mind', 'to', 'think', '–', 'Albert', 'Einstein']\n",
      "{'but', 'to', 'of'}\n"
     ]
    }
   ],
   "source": [
    "## creating a list of words by split() method and intersecting the words with prepositions by using a new set called preps_used.\n",
    "\n",
    "text = \"\"\"Education is not the learning of facts\n",
    "but the training of the mind to think\n",
    "\n",
    "– Albert Einstein\"\"\"\n",
    "\n",
    "prepositions = {\"as\", \"but\", \"by\", \"down\", \"for\", \"in\", \"of\", \"on\", \"to\", \"with\"}\n",
    "\n",
    "# Add your code here.\n",
    "words = text.split()\n",
    "print(words)\n",
    "preps_used = prepositions.intersection(words)\n",
    "print(preps_used)\n",
    "\n",
    "#words = text.split()\n",
    "\n",
    "#preps_used = set(words) & prepositions\n",
    "#print(preps_used)"
   ]
  },
  {
   "cell_type": "code",
   "execution_count": 47,
   "metadata": {},
   "outputs": [
    {
     "name": "stdout",
     "output_type": "stream",
     "text": [
      "{'cachemira cd', 'roller blind', 'door screen', 'football', 'coffee grinder'}\n",
      "{'cachemira cd', 'roller blind', 'door screen', 'football', 'coffee grinder'}\n"
     ]
    }
   ],
   "source": [
    "### set difference:\n",
    "\n",
    "favourites = {'door screen',\n",
    "              'frying pan',\n",
    "              'roller blind',\n",
    "              'football',\n",
    "              'coffee grinder',\n",
    "              'bush hat',\n",
    "              'stirling engine',\n",
    "              'cachemira cd',\n",
    "              'shirt',\n",
    "              }\n",
    "\n",
    "basket = {'garlic crusher',\n",
    "          'stirling engine',\n",
    "          'frying pan',\n",
    "          'shirt',\n",
    "          'bush hat',\n",
    "          }\n",
    "\n",
    "# Add your code here.\n",
    "suggestions = favourites - basket\n",
    "print(suggestions)\n",
    "\n",
    "suggestion = favourites.difference(basket)\n",
    "print(suggestion)"
   ]
  },
  {
   "cell_type": "code",
   "execution_count": 50,
   "metadata": {},
   "outputs": [
    {
     "name": "stdout",
     "output_type": "stream",
     "text": [
      "{'lisp', 'python'}\n",
      "{'lisp', 'python'}\n",
      "{'lisp', 'python'}\n"
     ]
    }
   ],
   "source": [
    "morning = {'c#','java','c++','ruby','lisp'}\n",
    "afternoon = {'python','c#','ruby','java','c++'}\n",
    "\n",
    "# using operator\n",
    "possible_courses = morning ^ afternoon\n",
    "print(possible_courses)\n",
    "\n",
    "poss_courses = morning.symmetric_difference(afternoon)\n",
    "print(poss_courses)\n",
    "\n",
    "## we can perform symmetric_difference method with list also.\n",
    "\n",
    "morning = ['c#','java','c++','ruby','lisp']\n",
    "afternoon = ['python','c#','ruby','java','c++']\n",
    "\n",
    "courses = set(morning).symmetric_difference(afternoon)## remember we can pass any iterable to sets methods\n",
    "## courses = set(afternoon).symmetric_difference(morning)\n",
    "## symmetric_difference_update(^=)\n",
    "print(courses)"
   ]
  },
  {
   "cell_type": "code",
   "execution_count": 63,
   "metadata": {},
   "outputs": [
    {
     "name": "stdout",
     "output_type": "stream",
     "text": [
      "\t*********SUPER_SETS, SUB_SETS***********\n",
      "birds is a subset of animals: True\n",
      "animals is a superset of birds: True\n",
      "True\n",
      "True\n",
      "True\n",
      "True\n",
      "********************************************************************************\n",
      "True\n",
      "garden_birds is a subset of birds: True\n",
      "garden_birds is not a proper_subset of birds: False\n",
      "birds is a superset of garden_birds: True\n",
      "birds is not a proper_superset: False\n",
      "********************************************************************************\n",
      "if one set isn't a subset of another\n",
      "False\n",
      "False\n"
     ]
    }
   ],
   "source": [
    "\"\"\" SUPER SET/SUBSET\"\"\"\n",
    "print('\\t*********SUPER_SETS, SUB_SETS***********')\n",
    "animals = {'turtle','cat','horse','robin','tiger','eagle','leopard','crocodile','vulture','robin'}\n",
    "birds = {'eagle','vulture','robin'}\n",
    "\n",
    "## using set methods\n",
    "print(f'birds is a subset of animals: {birds.issubset(animals)}') # returns True if it is subset\n",
    "print(f'animals is a superset of birds: {animals.issuperset(birds)}') # returns True if it is superset.\n",
    "\n",
    "## usinfg operators:\n",
    "print(birds <= animals)  ## subset\n",
    "print(birds < animals) ## proper subset\n",
    "print(animals >= birds) ## superset\n",
    "print(animals > birds) ## proper superset\n",
    "print(\"*\"*80)\n",
    "garden_birds = {'eagle','vulture','robin'}\n",
    "\n",
    "## to check if two sets are equal:\n",
    "print(garden_birds == birds)\n",
    "print(f'garden_birds is a subset of birds: {garden_birds <= birds}')\n",
    "print(f'garden_birds is not a proper_subset of birds: {garden_birds < birds}')\n",
    "print(f'birds is a superset of garden_birds: {birds >= garden_birds}')\n",
    "print(f'birds is not a proper_superset: {birds > garden_birds}')\n",
    "print(\"*\"*80)\n",
    "print('if one set isn\\'t a subset of another')\n",
    "more_birds = {'eagle','vulture','parrot'}\n",
    "print(more_birds <= garden_birds) ## there is no parrot in set of garden_birds so it's print false.\n",
    "print(garden_birds >= more_birds)"
   ]
  },
  {
   "cell_type": "code",
   "execution_count": 65,
   "metadata": {},
   "outputs": [
    {
     "name": "stdout",
     "output_type": "stream",
     "text": [
      "{'bob', 'ekani', 'charles', 'anna'}\n",
      "{'ekani', 'charles', 'anna'}\n"
     ]
    }
   ],
   "source": [
    "required_skills = ['python','github','linux'] ### creating a list/ can be list also of skills.\n",
    "\n",
    "candidates = {'anna': {'java','github','linux','python','full stack'},   ## a dict of values are stored in sets, it can be list/tuple too\n",
    "             'bob': {'github','python','linux'},\n",
    "             'charles': {'linux','java','github','python','html'},\n",
    "             'daniel': {'pascal','github','java','c++'},\n",
    "             'ekani': {'github','python','linux','css','html'},\n",
    "             'fenna': {'linux','pascal','github','lisp','module-2','perl','java','c'},\n",
    "             }\n",
    "\n",
    "## will create a empty set to hold the names of interviewees and then check for skills.\n",
    "\n",
    "interviewees = set()\n",
    "for candidate, skills in candidates.items(): ## we've iterated over the candidate \n",
    "    if skills.issuperset(required_skills): ## checking if skills is a superset, if it is superset and yes it is.\n",
    "        interviewees.add(candidate) # then we've added it to interviewees using candidates name.\n",
    "        \n",
    "print(interviewees)\n",
    "\n",
    "interviewees = set()\n",
    "for candidate, skills in candidates.items(): ## we've iterated over the candidate \n",
    "    if skills > set(required_skills): ## checking if skills is a proper_superset, set(required_skills is list), we can pass any iterable to set(methods)\n",
    "        interviewees.add(candidate) # then we've added it to interviewees using candidates name.\n",
    "        \n",
    "print(interviewees) ## returns true if the skills are proper super_set of our required_skills - which means they must includes atleast\n",
    "## one or more skills than required skills."
   ]
  },
  {
   "cell_type": "code",
   "execution_count": null,
   "metadata": {},
   "outputs": [],
   "source": []
  }
 ],
 "metadata": {
  "kernelspec": {
   "display_name": "Python 3",
   "language": "python",
   "name": "python3"
  },
  "language_info": {
   "codemirror_mode": {
    "name": "ipython",
    "version": 3
   },
   "file_extension": ".py",
   "mimetype": "text/x-python",
   "name": "python",
   "nbconvert_exporter": "python",
   "pygments_lexer": "ipython3",
   "version": "3.8.5"
  }
 },
 "nbformat": 4,
 "nbformat_minor": 4
}
